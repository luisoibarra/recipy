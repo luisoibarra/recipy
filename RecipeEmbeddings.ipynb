{
  "cells": [
    {
      "cell_type": "markdown",
      "metadata": {
        "id": "SFv1fNasu0KO"
      },
      "source": [
        "# Semantic Embedding"
      ]
    },
    {
      "cell_type": "markdown",
      "metadata": {
        "id": "P7oIL4sFu4mb"
      },
      "source": [
        "## Get food.com dataset"
      ]
    },
    {
      "cell_type": "code",
      "execution_count": 1,
      "metadata": {
        "colab": {
          "base_uri": "https://localhost:8080/"
        },
        "id": "ztyaf1ECu9Ks",
        "outputId": "ba024132-6632-43e3-8f26-704383c28c07"
      },
      "outputs": [
        {
          "output_type": "stream",
          "name": "stdout",
          "text": [
            "Looking in indexes: https://pypi.org/simple, https://us-python.pkg.dev/colab-wheels/public/simple/\n",
            "Requirement already satisfied: kaggle in /usr/local/lib/python3.10/dist-packages (1.5.13)\n",
            "Requirement already satisfied: six>=1.10 in /usr/local/lib/python3.10/dist-packages (from kaggle) (1.16.0)\n",
            "Requirement already satisfied: certifi in /usr/local/lib/python3.10/dist-packages (from kaggle) (2022.12.7)\n",
            "Requirement already satisfied: python-dateutil in /usr/local/lib/python3.10/dist-packages (from kaggle) (2.8.2)\n",
            "Requirement already satisfied: requests in /usr/local/lib/python3.10/dist-packages (from kaggle) (2.27.1)\n",
            "Requirement already satisfied: tqdm in /usr/local/lib/python3.10/dist-packages (from kaggle) (4.65.0)\n",
            "Requirement already satisfied: python-slugify in /usr/local/lib/python3.10/dist-packages (from kaggle) (8.0.1)\n",
            "Requirement already satisfied: urllib3 in /usr/local/lib/python3.10/dist-packages (from kaggle) (1.26.15)\n",
            "Requirement already satisfied: text-unidecode>=1.3 in /usr/local/lib/python3.10/dist-packages (from python-slugify->kaggle) (1.3)\n",
            "Requirement already satisfied: charset-normalizer~=2.0.0 in /usr/local/lib/python3.10/dist-packages (from requests->kaggle) (2.0.12)\n",
            "Requirement already satisfied: idna<4,>=2.5 in /usr/local/lib/python3.10/dist-packages (from requests->kaggle) (3.4)\n",
            "Warning: Your Kaggle API key is readable by other users on this system! To fix this, you can run 'chmod 600 /root/.kaggle/kaggle.json'\n",
            "Warning: Your Kaggle API key is readable by other users on this system! To fix this, you can run 'chmod 600 /root/.kaggle/kaggle.json'\n",
            "Archive:  food-com-recipes-and-user-interactions.zip\n",
            "  inflating: food-com-recipes-and-user-interactions/PP_recipes.csv  \n",
            "  inflating: food-com-recipes-and-user-interactions/PP_users.csv  \n",
            "  inflating: food-com-recipes-and-user-interactions/RAW_interactions.csv  \n",
            "  inflating: food-com-recipes-and-user-interactions/RAW_recipes.csv  \n",
            "  inflating: food-com-recipes-and-user-interactions/ingr_map.pkl  \n",
            "  inflating: food-com-recipes-and-user-interactions/interactions_test.csv  \n",
            "  inflating: food-com-recipes-and-user-interactions/interactions_train.csv  \n",
            "  inflating: food-com-recipes-and-user-interactions/interactions_validation.csv  \n"
          ]
        }
      ],
      "source": [
        "!pip install kaggle\n",
        "\n",
        "# Copy kaggle.json provided by kaggle to colab. Must have a kaggle account and request your API key.\n",
        "!mkdir ~/.kaggle/\n",
        "!mv kaggle.json ~/.kaggle/kaggle.json\n",
        "\n",
        "import kaggle\n",
        "kaggle.api.authenticate()\n",
        "kaggle.api.dataset_download_files('shuyangli94/food-com-recipes-and-user-interactions', path='./', unzip=False)\n",
        "\n",
        "!unzip food-com-recipes-and-user-interactions.zip -d food-com-recipes-and-user-interactions\n",
        "\n",
        "from pathlib import Path\n",
        "import pandas as pd\n",
        "\n",
        "raw_recipe_path = Path() / \"food-com-recipes-and-user-interactions\" / \"RAW_recipes.csv\""
      ]
    },
    {
      "cell_type": "code",
      "execution_count": 2,
      "metadata": {
        "id": "Hkl8ElgVvkDL"
      },
      "outputs": [],
      "source": [
        "import json\n",
        "\n",
        "def save_foodcom_json(raw_recipe: pd.DataFrame, path: Path) -> dict:\n",
        "    info_json = {}\n",
        "\n",
        "    for i, row in raw_recipe[[\"name\", \"ingredients\", \"steps\"]].iterrows():\n",
        "        recipe = row[\"name\"]\n",
        "        ingredients = eval(row[\"ingredients\"])\n",
        "        instructions = eval(row[\"steps\"])\n",
        "        info_json[recipe] = {\n",
        "            \"nombre\": recipe,\n",
        "            \"ingredientes\": [{\"nombre\": ingredient, } for ingredient in ingredients],\n",
        "            \"instrucciones\": [ {\"orden\": i, \"instruccion\": instruction, } for i, instruction in enumerate(instructions)],\n",
        "        }\n",
        "\n",
        "    json.dump(info_json, path.open(\"+w\"))\n",
        "    return info_json\n",
        "\n",
        "\n",
        "raw_csv = pd.read_csv(raw_recipe_path)\n",
        "foodcom_json = save_foodcom_json(raw_csv, Path(\"foodcom.json\"))"
      ]
    },
    {
      "cell_type": "code",
      "execution_count": null,
      "metadata": {
        "id": "Yzl4g1WFCFvt"
      },
      "outputs": [],
      "source": [
        "import json\n",
        "from pathlib import Path\n",
        "\n",
        "foodcom_json_path = Path(\"foodcom.json\")\n",
        "foodcom_json = json.load(foodcom_json_path.open())"
      ]
    },
    {
      "cell_type": "markdown",
      "metadata": {
        "id": "PVtTQSVY-zBK"
      },
      "source": [
        "# Recipe embedding\n",
        "\n",
        "## Using Universal Sentence Encoder\n",
        "\n",
        "From [this](https://www.tensorflow.org/hub/tutorials/semantic_similarity_with_tf_hub_universal_encoder) source"
      ]
    },
    {
      "cell_type": "code",
      "execution_count": null,
      "metadata": {
        "id": "mQcQxhnu-7AZ"
      },
      "outputs": [],
      "source": [
        "%%capture\n",
        "!pip3 install seaborn"
      ]
    },
    {
      "cell_type": "code",
      "execution_count": 3,
      "metadata": {
        "colab": {
          "base_uri": "https://localhost:8080/"
        },
        "id": "zmdSGS-H-T0p",
        "outputId": "54c99362-4078-4af5-9bc3-0fdc0efc5d0d"
      },
      "outputs": [
        {
          "output_type": "stream",
          "name": "stdout",
          "text": [
            "module https://tfhub.dev/google/universal-sentence-encoder/4 loaded\n"
          ]
        }
      ],
      "source": [
        "from absl import logging\n",
        "\n",
        "import tensorflow as tf\n",
        "\n",
        "import tensorflow_hub as hub\n",
        "import matplotlib.pyplot as plt\n",
        "import numpy as np\n",
        "import os\n",
        "import pandas as pd\n",
        "import re\n",
        "\n",
        "module_url = \"https://tfhub.dev/google/universal-sentence-encoder/4\"\n",
        "model = hub.load(module_url)\n",
        "print (\"module %s loaded\" % module_url)\n",
        "def embed(input):\n",
        "  return model(input)"
      ]
    },
    {
      "cell_type": "code",
      "execution_count": null,
      "metadata": {
        "colab": {
          "base_uri": "https://localhost:8080/"
        },
        "id": "yepGuRFb_Z9j",
        "outputId": "b01a2e67-5305-4700-d138-6a19ec0790e1"
      },
      "outputs": [
        {
          "name": "stdout",
          "output_type": "stream",
          "text": [
            "Message: Elephant\n",
            "Embedding size: 512\n",
            "Embedding: [0.008344486355781555, 0.00048085825983434916, 0.06595248728990555, ...]\n",
            "\n",
            "Message: I am a sentence for which I would like to get its embedding.\n",
            "Embedding size: 512\n",
            "Embedding: [0.050808604806661606, -0.016524329781532288, 0.01573779620230198, ...]\n",
            "\n",
            "Message: Universal Sentence Encoder embeddings also support short paragraphs. There is no hard limit on how long the paragraph is. Roughly, the longer the more 'diluted' the embedding will be.\n",
            "Embedding size: 512\n",
            "Embedding: [-0.028332693502306938, -0.0558621808886528, -0.012941480614244938, ...]\n",
            "\n"
          ]
        }
      ],
      "source": [
        "word = \"Elephant\"\n",
        "sentence = \"I am a sentence for which I would like to get its embedding.\"\n",
        "paragraph = (\n",
        "    \"Universal Sentence Encoder embeddings also support short paragraphs. \"\n",
        "    \"There is no hard limit on how long the paragraph is. Roughly, the longer \"\n",
        "    \"the more 'diluted' the embedding will be.\")\n",
        "messages = [word, sentence, paragraph]\n",
        "\n",
        "# Reduce logging output.\n",
        "logging.set_verbosity(logging.ERROR)\n",
        "\n",
        "message_embeddings = embed(messages)\n",
        "\n",
        "for i, message_embedding in enumerate(np.array(message_embeddings).tolist()):\n",
        "  print(\"Message: {}\".format(messages[i]))\n",
        "  print(\"Embedding size: {}\".format(len(message_embedding)))\n",
        "  message_embedding_snippet = \", \".join(\n",
        "      (str(x) for x in message_embedding[:3]))\n",
        "  print(\"Embedding: [{}, ...]\\n\".format(message_embedding_snippet))"
      ]
    },
    {
      "cell_type": "code",
      "execution_count": 4,
      "metadata": {
        "id": "dhYiLslZ_ggR"
      },
      "outputs": [],
      "source": [
        "recipe_json = foodcom_json\n",
        "\n",
        "def get_recipe_text(json):\n",
        "  new_json = {}\n",
        "  for recipe in json:\n",
        "    new_json[recipe] = {\n",
        "        \"ingredients\": [x[\"nombre\"] for x in json[recipe][\"ingredientes\"]],\n",
        "        \"steps\": [x[\"instruccion\"] for x in json[recipe][\"instrucciones\"]]\n",
        "    }\n",
        "  return new_json\n",
        "\n",
        "new_recipe_json = get_recipe_text(recipe_json)\n",
        "del recipe_json\n",
        "del foodcom_json"
      ]
    },
    {
      "cell_type": "code",
      "execution_count": null,
      "metadata": {
        "id": "G9K5hNhV04H2"
      },
      "outputs": [],
      "source": [
        "df = pd.DataFrame({\n",
        "    \"recipe\": list(new_recipe_json),\n",
        "    \"steps\": [len(x[\"steps\"]) for x in new_recipe_json.values()],\n",
        "    \"ingredients\": [len(x[\"ingredients\"]) for x in new_recipe_json.values()],\n",
        "  })"
      ]
    },
    {
      "cell_type": "code",
      "execution_count": null,
      "metadata": {
        "colab": {
          "base_uri": "https://localhost:8080/",
          "height": 755
        },
        "id": "d-7NoDPUx-MK",
        "outputId": "3021dc9f-cfce-4622-a9e3-3d69c14d1a72"
      },
      "outputs": [
        {
          "data": {
            "text/html": [
              "\n",
              "  <div id=\"df-e2ace07e-9227-4c31-91ca-4ef3e5eba70a\">\n",
              "    <div class=\"colab-df-container\">\n",
              "      <div>\n",
              "<style scoped>\n",
              "    .dataframe tbody tr th:only-of-type {\n",
              "        vertical-align: middle;\n",
              "    }\n",
              "\n",
              "    .dataframe tbody tr th {\n",
              "        vertical-align: top;\n",
              "    }\n",
              "\n",
              "    .dataframe thead th {\n",
              "        text-align: right;\n",
              "    }\n",
              "</style>\n",
              "<table border=\"1\" class=\"dataframe\">\n",
              "  <thead>\n",
              "    <tr style=\"text-align: right;\">\n",
              "      <th></th>\n",
              "      <th>steps</th>\n",
              "      <th>ingredients</th>\n",
              "    </tr>\n",
              "  </thead>\n",
              "  <tbody>\n",
              "    <tr>\n",
              "      <th>count</th>\n",
              "      <td>230186.000000</td>\n",
              "      <td>230186.000000</td>\n",
              "    </tr>\n",
              "    <tr>\n",
              "      <th>mean</th>\n",
              "      <td>9.768466</td>\n",
              "      <td>9.051654</td>\n",
              "    </tr>\n",
              "    <tr>\n",
              "      <th>std</th>\n",
              "      <td>5.996906</td>\n",
              "      <td>3.737725</td>\n",
              "    </tr>\n",
              "    <tr>\n",
              "      <th>min</th>\n",
              "      <td>0.000000</td>\n",
              "      <td>1.000000</td>\n",
              "    </tr>\n",
              "    <tr>\n",
              "      <th>25%</th>\n",
              "      <td>6.000000</td>\n",
              "      <td>6.000000</td>\n",
              "    </tr>\n",
              "    <tr>\n",
              "      <th>50%</th>\n",
              "      <td>9.000000</td>\n",
              "      <td>9.000000</td>\n",
              "    </tr>\n",
              "    <tr>\n",
              "      <th>75%</th>\n",
              "      <td>12.000000</td>\n",
              "      <td>11.000000</td>\n",
              "    </tr>\n",
              "    <tr>\n",
              "      <th>max</th>\n",
              "      <td>145.000000</td>\n",
              "      <td>43.000000</td>\n",
              "    </tr>\n",
              "  </tbody>\n",
              "</table>\n",
              "</div>\n",
              "      <button class=\"colab-df-convert\" onclick=\"convertToInteractive('df-e2ace07e-9227-4c31-91ca-4ef3e5eba70a')\"\n",
              "              title=\"Convert this dataframe to an interactive table.\"\n",
              "              style=\"display:none;\">\n",
              "        \n",
              "  <svg xmlns=\"http://www.w3.org/2000/svg\" height=\"24px\"viewBox=\"0 0 24 24\"\n",
              "       width=\"24px\">\n",
              "    <path d=\"M0 0h24v24H0V0z\" fill=\"none\"/>\n",
              "    <path d=\"M18.56 5.44l.94 2.06.94-2.06 2.06-.94-2.06-.94-.94-2.06-.94 2.06-2.06.94zm-11 1L8.5 8.5l.94-2.06 2.06-.94-2.06-.94L8.5 2.5l-.94 2.06-2.06.94zm10 10l.94 2.06.94-2.06 2.06-.94-2.06-.94-.94-2.06-.94 2.06-2.06.94z\"/><path d=\"M17.41 7.96l-1.37-1.37c-.4-.4-.92-.59-1.43-.59-.52 0-1.04.2-1.43.59L10.3 9.45l-7.72 7.72c-.78.78-.78 2.05 0 2.83L4 21.41c.39.39.9.59 1.41.59.51 0 1.02-.2 1.41-.59l7.78-7.78 2.81-2.81c.8-.78.8-2.07 0-2.86zM5.41 20L4 18.59l7.72-7.72 1.47 1.35L5.41 20z\"/>\n",
              "  </svg>\n",
              "      </button>\n",
              "      \n",
              "  <style>\n",
              "    .colab-df-container {\n",
              "      display:flex;\n",
              "      flex-wrap:wrap;\n",
              "      gap: 12px;\n",
              "    }\n",
              "\n",
              "    .colab-df-convert {\n",
              "      background-color: #E8F0FE;\n",
              "      border: none;\n",
              "      border-radius: 50%;\n",
              "      cursor: pointer;\n",
              "      display: none;\n",
              "      fill: #1967D2;\n",
              "      height: 32px;\n",
              "      padding: 0 0 0 0;\n",
              "      width: 32px;\n",
              "    }\n",
              "\n",
              "    .colab-df-convert:hover {\n",
              "      background-color: #E2EBFA;\n",
              "      box-shadow: 0px 1px 2px rgba(60, 64, 67, 0.3), 0px 1px 3px 1px rgba(60, 64, 67, 0.15);\n",
              "      fill: #174EA6;\n",
              "    }\n",
              "\n",
              "    [theme=dark] .colab-df-convert {\n",
              "      background-color: #3B4455;\n",
              "      fill: #D2E3FC;\n",
              "    }\n",
              "\n",
              "    [theme=dark] .colab-df-convert:hover {\n",
              "      background-color: #434B5C;\n",
              "      box-shadow: 0px 1px 3px 1px rgba(0, 0, 0, 0.15);\n",
              "      filter: drop-shadow(0px 1px 2px rgba(0, 0, 0, 0.3));\n",
              "      fill: #FFFFFF;\n",
              "    }\n",
              "  </style>\n",
              "\n",
              "      <script>\n",
              "        const buttonEl =\n",
              "          document.querySelector('#df-e2ace07e-9227-4c31-91ca-4ef3e5eba70a button.colab-df-convert');\n",
              "        buttonEl.style.display =\n",
              "          google.colab.kernel.accessAllowed ? 'block' : 'none';\n",
              "\n",
              "        async function convertToInteractive(key) {\n",
              "          const element = document.querySelector('#df-e2ace07e-9227-4c31-91ca-4ef3e5eba70a');\n",
              "          const dataTable =\n",
              "            await google.colab.kernel.invokeFunction('convertToInteractive',\n",
              "                                                     [key], {});\n",
              "          if (!dataTable) return;\n",
              "\n",
              "          const docLinkHtml = 'Like what you see? Visit the ' +\n",
              "            '<a target=\"_blank\" href=https://colab.research.google.com/notebooks/data_table.ipynb>data table notebook</a>'\n",
              "            + ' to learn more about interactive tables.';\n",
              "          element.innerHTML = '';\n",
              "          dataTable['output_type'] = 'display_data';\n",
              "          await google.colab.output.renderOutput(dataTable, element);\n",
              "          const docLink = document.createElement('div');\n",
              "          docLink.innerHTML = docLinkHtml;\n",
              "          element.appendChild(docLink);\n",
              "        }\n",
              "      </script>\n",
              "    </div>\n",
              "  </div>\n",
              "  "
            ],
            "text/plain": [
              "               steps    ingredients\n",
              "count  230186.000000  230186.000000\n",
              "mean        9.768466       9.051654\n",
              "std         5.996906       3.737725\n",
              "min         0.000000       1.000000\n",
              "25%         6.000000       6.000000\n",
              "50%         9.000000       9.000000\n",
              "75%        12.000000      11.000000\n",
              "max       145.000000      43.000000"
            ]
          },
          "metadata": {},
          "output_type": "display_data"
        },
        {
          "data": {
            "image/png": "[encoded data removed]",
            "text/plain": [
              "<Figure size 640x480 with 1 Axes>"
            ]
          },
          "metadata": {},
          "output_type": "display_data"
        }
      ],
      "source": [
        "\n",
        "import seaborn as sns\n",
        "\n",
        "display(df.describe())\n",
        "\n",
        "# Create a bar plot of the length column using Seaborn\n",
        "sns.histplot(x='steps', data=df)\n",
        "\n",
        "# Add a title and axis labels\n",
        "plt.title('Length of Items')\n",
        "plt.xlabel('Item Name')\n",
        "plt.ylabel('Length')\n",
        "\n",
        "# Show the plot\n",
        "plt.show()"
      ]
    },
    {
      "cell_type": "code",
      "execution_count": null,
      "metadata": {
        "id": "ogf_UljT41Ul"
      },
      "outputs": [],
      "source": [
        "def get_steps_string(recipe_info):\n",
        "  return \"\\n\".join(f\"{i}. {step}\" for i, step in enumerate(recipe_info[\"steps\"]))\n",
        "\n",
        "def get_ingredients_string(recipe_info):\n",
        "  return \"\\n\".join(f\"{i}. {step}\" for i, step in enumerate(recipe_info[\"ingredients\"]))\n"
      ]
    },
    {
      "cell_type": "code",
      "execution_count": 5,
      "metadata": {
        "colab": {
          "base_uri": "https://localhost:8080/"
        },
        "id": "g0RMLHDu3Dz0",
        "outputId": "dd649004-5d5e-4a9c-bbeb-a60fb4186d4e"
      },
      "outputs": [
        {
          "output_type": "stream",
          "name": "stdout",
          "text": [
            "Train set length: 138111\n",
            "Validation set length: 23019\n",
            "Test set length: 69056\n",
            "All length: 230186\n"
          ]
        }
      ],
      "source": [
        "from sklearn.model_selection import train_test_split\n",
        "\n",
        "train, test_and_val = train_test_split([x for x in new_recipe_json], test_size=0.4, random_state=42)\n",
        "test, val = train_test_split(test_and_val, test_size=0.25, random_state=46)\n",
        "\n",
        "# print the length of each set\n",
        "print(\"Train set length:\", len(train))\n",
        "print(\"Validation set length:\", len(val))\n",
        "print(\"Test set length:\", len(test))\n",
        "print(\"All length:\", len(train + val + test))"
      ]
    },
    {
      "cell_type": "code",
      "execution_count": null,
      "metadata": {
        "colab": {
          "base_uri": "https://localhost:8080/"
        },
        "id": "yhHxYLm-p8XS",
        "outputId": "33dde27b-a225-4b15-c27a-d9595a604755"
      },
      "outputs": [
        {
          "name": "stdout",
          "output_type": "stream",
          "text": [
            "Drive already mounted at /content/drive; to attempt to forcibly remount, call drive.mount(\"/content/drive\", force_remount=True).\n"
          ]
        }
      ],
      "source": [
        "from google.colab import drive\n",
        "drive.mount('/content/drive')"
      ]
    },
    {
      "cell_type": "code",
      "execution_count": null,
      "metadata": {
        "colab": {
          "base_uri": "https://localhost:8080/"
        },
        "id": "HQEmIGLGBPuz",
        "outputId": "2a35f5a1-f1af-41a0-a525-a6c5b22a47eb"
      },
      "outputs": [
        {
          "name": "stdout",
          "output_type": "stream",
          "text": [
            "23019\n",
            "12\n",
            "Start 11\n",
            "(22528, 24576)\n",
            "491\n",
            "End 11\n",
            "69056\n",
            "34\n",
            "Start 33\n",
            "(67584, 69632)\n",
            "1472\n",
            "End 33\n"
          ]
        }
      ],
      "source": [
        "import tensorflow.keras.layers as layers\n",
        "import tensorflow as tf\n",
        "from math import ceil\n",
        "\n",
        "max_seq_length = 256\n",
        "\n",
        "\n",
        "def get_vector(text):\n",
        "  try:\n",
        "    vector = embed(text)\n",
        "  except:\n",
        "    print(f\"FAILED: {text}\")\n",
        "    vector = tf.zeros(shape=(max_seq_length,512))\n",
        "  add_to_shape = max_seq_length - tf.shape(vector)[0]\n",
        "  vector = tf.concat([vector, tf.zeros(shape=(add_to_shape,512))], axis=0)\n",
        "  return vector\n",
        "\n",
        "def get_dataset_from_string(string_list):\n",
        "  data = None\n",
        "  for string in string_list:\n",
        "    vector = get_vector(string)\n",
        "    vector = tf.reshape(vector, shape=(1, max_seq_length, 512))\n",
        "    if data is None:\n",
        "      data = vector\n",
        "    else:\n",
        "      data = tf.concat([data, vector], axis=0)\n",
        "\n",
        "  ds = tf.data.Dataset.from_tensor_slices(data)\n",
        "  return tf.data.Dataset.zip((ds, ds))\n",
        "\n",
        "def save_dataset(recipe_list: list[str], split: str, initial_batch=0):\n",
        "  batch_size = 2048\n",
        "  print(len(recipe_list))\n",
        "  print(ceil(len(recipe_list) / batch_size))\n",
        "  for batch in range(initial_batch, ceil(len(recipe_list) / batch_size)):\n",
        "    print(f\"Start {batch}\")\n",
        "    print((batch*batch_size,batch_size*(batch + 1)))\n",
        "    print(len(recipe_list[batch*batch_size:(batch + 1)*batch_size]))\n",
        "    dataset = get_dataset_from_string([new_recipe_json[x][\"steps\"] for x in recipe_list[batch*batch_size:(batch + 1)*batch_size]])\n",
        "    dataset.save(f\"/content/drive/MyDrive/{batch:0>5}_{split}.ds\", compression=\"GZIP\")\n",
        "    print(f\"End {batch}\")\n",
        "\n",
        "# save_dataset(train, \"train\", initial_batch=0)\n",
        "# save_dataset(val, \"val\", initial_batch=0)\n",
        "# save_dataset(test, \"test\", initial_batch=0)\n"
      ]
    },
    {
      "cell_type": "code",
      "execution_count": null,
      "metadata": {
        "id": "hM2prIf3Sx-M"
      },
      "outputs": [],
      "source": [
        "from pathlib import Path\n",
        "import tensorflow as tf\n",
        "\n",
        "def process_ds(split: str):\n",
        "  base_path = Path(\"/content/drive/MyDrive\")\n",
        "  ds = None\n",
        "  for file in sorted([x for x in base_path.iterdir()]):\n",
        "    if file.is_dir() and file.name.split(\"_\")[-1].startswith(split) and file.name.endswith(\".ds\"):\n",
        "      current_ds = tf.data.Dataset.load(str(file), compression=\"GZIP\")\n",
        "      if ds is None:\n",
        "        ds = current_ds\n",
        "      else:\n",
        "        ds = ds.concatenate(current_ds)\n",
        "  return ds\n",
        "\n",
        "train_ds = process_ds(\"train\")\n",
        "dev_ds = process_ds(\"val\")\n",
        "test_ds = process_ds(\"test\")\n"
      ]
    },
    {
      "cell_type": "code",
      "execution_count": null,
      "metadata": {
        "id": "qOvCOY2aSXYz"
      },
      "outputs": [],
      "source": [
        "import tensorflow.keras.layers as layers\n",
        "import tensorflow as tf\n",
        "max_seq_length = 256\n",
        "\n",
        "def encode():\n",
        "  input = model = layers.Input(shape=(max_seq_length, 512))\n",
        "  model = layers.Conv1D(256, 2)(model)\n",
        "  model = layers.MaxPooling1D(2)(model)\n",
        "  model = layers.Conv1D(128, 2)(model)\n",
        "  model = layers.MaxPooling1D(2)(model)\n",
        "  model = layers.Conv1D(64, 2)(model)\n",
        "  model = layers.MaxPooling1D(2)(model)\n",
        "  model = layers.Conv1D(32, 2)(model)\n",
        "  model = layers.Reshape((30 * 32,))(model)\n",
        "  model = layers.Dense(512)(model)\n",
        "  model = layers.Dense(256)(model)\n",
        "  model = tf.keras.Model(inputs=input, outputs=model)\n",
        "  return model\n",
        "\n",
        "def decode():\n",
        "  decoder_input = decoder_output = layers.Input(shape=(256,))\n",
        "  decoder_output = layers.Dense(512)(decoder_output)\n",
        "  decoder_output = layers.Dense(30 * 32)(decoder_output)\n",
        "  decoder_output = layers.Reshape((30, 32))(decoder_output)\n",
        "  decoder_output = layers.Conv1DTranspose(64, 2)(decoder_output)\n",
        "  decoder_output = layers.Conv1DTranspose(64, 2, strides=2)(decoder_output)\n",
        "  decoder_output = layers.Conv1DTranspose(128, 2)(decoder_output)\n",
        "  decoder_output = layers.Conv1DTranspose(128, 2, strides=2)(decoder_output)\n",
        "  decoder_output = layers.Conv1DTranspose(256, 2)(decoder_output)\n",
        "  decoder_output = layers.Conv1DTranspose(256, 2, strides=2)(decoder_output)\n",
        "  decoder_output = layers.Conv1DTranspose(512, 3)(decoder_output)\n",
        "  decoder = tf.keras.Model(inputs=decoder_input, outputs=decoder_output)\n",
        "  return decoder\n",
        "\n",
        "def encoder_att():\n",
        "  input = model = layers.Input(shape=(max_seq_length, 512))\n",
        "  model = layers.Conv1D(256, 3, strides=2, padding='same')(model)\n",
        "  model = layers.Attention()([model, model])\n",
        "  model = layers.MaxPooling1D(2)(model)\n",
        "  model = layers.Conv1D(128, 3, strides=2, padding='same')(model)\n",
        "  model = layers.Attention()([model, model])\n",
        "  model = layers.Conv1D(64, 3, strides=2, padding='same')(model)\n",
        "  model = layers.Attention()([model, model])\n",
        "  model = layers.AveragePooling1D(2)(model)\n",
        "  model = layers.Reshape((512,))(model)\n",
        "  model = layers.Dense(256)(model)\n",
        "  model = tf.keras.Model(inputs=input, outputs=model, name=\"encoder_attr\")\n",
        "  return model\n",
        "\n",
        "def decoder_att():\n",
        "  input = model = layers.Input(shape=(256,))\n",
        "  model = layers.Dense(512)(model)\n",
        "  model = layers.Reshape((8, 64))(model)\n",
        "  model = layers.Conv1DTranspose(64, 3, strides=2, padding='same')(model)\n",
        "  model = layers.Conv1DTranspose(64, 3, strides=2, padding='same')(model)\n",
        "  model = layers.Attention()([model, model])\n",
        "  model = layers.Conv1DTranspose(128, 3, strides=2, padding='same')(model)\n",
        "  model = layers.Attention()([model, model])\n",
        "  model = layers.Conv1DTranspose(256, 3, strides=2, padding='same')(model)\n",
        "  model = layers.Attention()([model, model])\n",
        "  model = layers.Conv1DTranspose(512, 3, strides=2, padding='same')(model)\n",
        "  model = layers.Attention()([model, model])\n",
        "  model = tf.keras.Model(inputs=input, outputs=model, name=\"decoder_attr\")\n",
        "  return model\n",
        "\n",
        "\n",
        "# e1 = encode()\n",
        "# d1 = decode()\n",
        "# input = layers.Input(shape=(max_seq_length, 512))\n",
        "# final = d1(e1(input))\n",
        "# model = tf.keras.Model(inputs=input, outputs=final)\n",
        "# model.summary()\n",
        "\n",
        "e2 = encoder_att()\n",
        "d2 = decoder_att()\n",
        "# input = layers.Input(shape=(max_seq_length, 512))\n",
        "# final = d2(e2(input))\n",
        "# model = tf.keras.Model(inputs=input, outputs=final)\n",
        "# model.summary()\n",
        "\n",
        "encoder = e2\n",
        "decoder = d2\n"
      ]
    },
    {
      "cell_type": "code",
      "execution_count": null,
      "metadata": {
        "id": "cpKCq3cM1Nhz"
      },
      "outputs": [],
      "source": [
        "import tensorflow.keras as keras\n",
        "import numpy as np\n",
        "class SaveModelCallback(keras.callbacks.Callback):\n",
        "\n",
        "  def __init__(self, model, path):\n",
        "    self.model = model\n",
        "    self.path = path\n",
        "\n",
        "  def on_epoch_end(self, epoch, logs=None):\n",
        "    print()\n",
        "    print(\"Saved model epoch\", epoch, \"at\", self.path)\n",
        "    self.model.save(self.path)\n"
      ]
    },
    {
      "cell_type": "code",
      "execution_count": null,
      "metadata": {
        "colab": {
          "base_uri": "https://localhost:8080/"
        },
        "id": "v2jq4fg26SUs",
        "outputId": "5f53d049-9153-4945-8eec-9e17524e0b9c"
      },
      "outputs": [
        {
          "name": "stdout",
          "output_type": "stream",
          "text": [
            "Current: 0\n",
            "Total 1.0069921875\n",
            "Model: \"full_encoder_decoder\"\n",
            "_________________________________________________________________\n",
            " Layer (type)                Output Shape              Param #   \n",
            "=================================================================\n",
            " model_input (InputLayer)    [(None, 256, 512)]        0         \n",
            "                                                                 \n",
            " encoder_attr (Functional)   (None, 256)               647872    \n",
            "                                                                 \n",
            " decoder_attr (Functional)   (None, 256, 512)          673280    \n",
            "                                                                 \n",
            "=================================================================\n",
            "Total params: 1,321,152\n",
            "Trainable params: 1,321,152\n",
            "Non-trainable params: 0\n",
            "_________________________________________________________________\n",
            "Epoch 1/40\n",
            "1000/1000 [==============================] - ETA: 0s - loss: 7.4538e-05 - encoder_attr_loss: 3.5448e-06 - decoder_attr_loss: 7.4538e-05\n",
            "Epoch 1: saving model to /content/drive/MyDrive/model.tf\n"
          ]
        },
        {
          "name": "stderr",
          "output_type": "stream",
          "text": [
            "WARNING:absl:Found untraced functions such as _jit_compiled_convolution_op, _jit_compiled_convolution_op, _jit_compiled_convolution_op, _jit_compiled_convolution_op, _jit_compiled_convolution_op while saving (showing 5 of 8). These functions will not be directly callable after loading.\n"
          ]
        },
        {
          "name": "stdout",
          "output_type": "stream",
          "text": [
            "\n",
            "Epoch 1: saving model to /content/drive/MyDrive/model_weights/model.weights\n",
            "\n",
            "Saved model epoch 0 at /content/drive/MyDrive/encoder.tf\n"
          ]
        },
        {
          "name": "stderr",
          "output_type": "stream",
          "text": [
            "WARNING:absl:Found untraced functions such as _jit_compiled_convolution_op, _jit_compiled_convolution_op, _jit_compiled_convolution_op, _jit_compiled_convolution_op, _jit_compiled_convolution_op while saving (showing 5 of 8). These functions will not be directly callable after loading.\n"
          ]
        },
        {
          "name": "stdout",
          "output_type": "stream",
          "text": [
            "\b\b\b\b\b\b\b\b\b\b\b\b\b\b\b\b\b\b\b\b\b\b\b\b\b\b\b\b\b\b\b\b\b\b\b\b\b\b\b\b\b\b\b\b\b\b\b\b\b\b\b\b\b\b\b\b\b\b\b\b\b\b\b\b\b\b\b\b\b\b\b\b\b\b\b\b\b\b\b\b\b\b\b\b\b\b\b\b\b\b\b\b\b\b\b\b\b\b\b\b\b\b\b\b\b\b\b\b\b\b\b\b\b\b\b\b\b\b\b\b\b\b\b\b\b\b\b\b\b\b\b\b\b\b\b\r1000/1000 [==============================] - 476s 472ms/step - loss: 7.4538e-05 - encoder_attr_loss: 3.5448e-06 - decoder_attr_loss: 7.4538e-05 - val_loss: 7.4247e-05 - val_encoder_attr_loss: 3.5407e-06 - val_decoder_attr_loss: 7.4247e-05\n",
            "Epoch 2/40\n",
            "1000/1000 [==============================] - ETA: 0s - loss: 7.4497e-05 - encoder_attr_loss: 3.5429e-06 - decoder_attr_loss: 7.4497e-05\n",
            "Epoch 2: saving model to /content/drive/MyDrive/model.tf\n"
          ]
        },
        {
          "name": "stderr",
          "output_type": "stream",
          "text": [
            "WARNING:absl:Found untraced functions such as _jit_compiled_convolution_op, _jit_compiled_convolution_op, _jit_compiled_convolution_op, _jit_compiled_convolution_op, _jit_compiled_convolution_op while saving (showing 5 of 8). These functions will not be directly callable after loading.\n"
          ]
        },
        {
          "name": "stdout",
          "output_type": "stream",
          "text": [
            "\n",
            "Epoch 2: saving model to /content/drive/MyDrive/model_weights/model.weights\n",
            "\n",
            "Saved model epoch 1 at /content/drive/MyDrive/encoder.tf\n"
          ]
        },
        {
          "name": "stderr",
          "output_type": "stream",
          "text": [
            "WARNING:absl:Found untraced functions such as _jit_compiled_convolution_op, _jit_compiled_convolution_op, _jit_compiled_convolution_op, _jit_compiled_convolution_op, _jit_compiled_convolution_op while saving (showing 5 of 8). These functions will not be directly callable after loading.\n"
          ]
        },
        {
          "name": "stdout",
          "output_type": "stream",
          "text": [
            "\b\b\b\b\b\b\b\b\b\b\b\b\b\b\b\b\b\b\b\b\b\b\b\b\b\b\b\b\b\b\b\b\b\b\b\b\b\b\b\b\b\b\b\b\b\b\b\b\b\b\b\b\b\b\b\b\b\b\b\b\b\b\b\b\b\b\b\b\b\b\b\b\b\b\b\b\b\b\b\b\b\b\b\b\b\b\b\b\b\b\b\b\b\b\b\b\b\b\b\b\b\b\b\b\b\b\b\b\b\b\b\b\b\b\b\b\b\b\b\b\b\b\b\b\b\b\b\b\b\b\b\b\b\b\b\r1000/1000 [==============================] - 474s 474ms/step - loss: 7.4497e-05 - encoder_attr_loss: 3.5429e-06 - decoder_attr_loss: 7.4497e-05 - val_loss: 7.4208e-05 - val_encoder_attr_loss: 3.5389e-06 - val_decoder_attr_loss: 7.4208e-05\n",
            "Epoch 3/40\n",
            "1000/1000 [==============================] - ETA: 0s - loss: 7.4459e-05 - encoder_attr_loss: 3.5411e-06 - decoder_attr_loss: 7.4459e-05\n",
            "Epoch 3: saving model to /content/drive/MyDrive/model.tf\n"
          ]
        },
        {
          "name": "stderr",
          "output_type": "stream",
          "text": [
            "WARNING:absl:Found untraced functions such as _jit_compiled_convolution_op, _jit_compiled_convolution_op, _jit_compiled_convolution_op, _jit_compiled_convolution_op, _jit_compiled_convolution_op while saving (showing 5 of 8). These functions will not be directly callable after loading.\n"
          ]
        },
        {
          "name": "stdout",
          "output_type": "stream",
          "text": [
            "\n",
            "Epoch 3: saving model to /content/drive/MyDrive/model_weights/model.weights\n",
            "\n",
            "Saved model epoch 2 at /content/drive/MyDrive/encoder.tf\n"
          ]
        },
        {
          "name": "stderr",
          "output_type": "stream",
          "text": [
            "WARNING:absl:Found untraced functions such as _jit_compiled_convolution_op, _jit_compiled_convolution_op, _jit_compiled_convolution_op, _jit_compiled_convolution_op, _jit_compiled_convolution_op while saving (showing 5 of 8). These functions will not be directly callable after loading.\n"
          ]
        },
        {
          "name": "stdout",
          "output_type": "stream",
          "text": [
            "\b\b\b\b\b\b\b\b\b\b\b\b\b\b\b\b\b\b\b\b\b\b\b\b\b\b\b\b\b\b\b\b\b\b\b\b\b\b\b\b\b\b\b\b\b\b\b\b\b\b\b\b\b\b\b\b\b\b\b\b\b\b\b\b\b\b\b\b\b\b\b\b\b\b\b\b\b\b\b\b\b\b\b\b\b\b\b\b\b\b\b\b\b\b\b\b\b\b\b\b\b\b\b\b\b\b\b\b\b\b\b\b\b\b\b\b\b\b\b\b\b\b\b\b\b\b\b\b\b\b\b\b\b\b\b\r1000/1000 [==============================] - 475s 475ms/step - loss: 7.4459e-05 - encoder_attr_loss: 3.5411e-06 - decoder_attr_loss: 7.4459e-05 - val_loss: 7.4173e-05 - val_encoder_attr_loss: 3.5372e-06 - val_decoder_attr_loss: 7.4173e-05\n",
            "Epoch 4/40\n",
            "1000/1000 [==============================] - ETA: 0s - loss: 7.4425e-05 - encoder_attr_loss: 3.5395e-06 - decoder_attr_loss: 7.4425e-05\n",
            "Epoch 4: saving model to /content/drive/MyDrive/model.tf\n"
          ]
        },
        {
          "name": "stderr",
          "output_type": "stream",
          "text": [
            "WARNING:absl:Found untraced functions such as _jit_compiled_convolution_op, _jit_compiled_convolution_op, _jit_compiled_convolution_op, _jit_compiled_convolution_op, _jit_compiled_convolution_op while saving (showing 5 of 8). These functions will not be directly callable after loading.\n"
          ]
        },
        {
          "name": "stdout",
          "output_type": "stream",
          "text": [
            "\n",
            "Epoch 4: saving model to /content/drive/MyDrive/model_weights/model.weights\n",
            "\n",
            "Saved model epoch 3 at /content/drive/MyDrive/encoder.tf\n"
          ]
        },
        {
          "name": "stderr",
          "output_type": "stream",
          "text": [
            "WARNING:absl:Found untraced functions such as _jit_compiled_convolution_op, _jit_compiled_convolution_op, _jit_compiled_convolution_op, _jit_compiled_convolution_op, _jit_compiled_convolution_op while saving (showing 5 of 8). These functions will not be directly callable after loading.\n"
          ]
        },
        {
          "name": "stdout",
          "output_type": "stream",
          "text": [
            "\b\b\b\b\b\b\b\b\b\b\b\b\b\b\b\b\b\b\b\b\b\b\b\b\b\b\b\b\b\b\b\b\b\b\b\b\b\b\b\b\b\b\b\b\b\b\b\b\b\b\b\b\b\b\b\b\b\b\b\b\b\b\b\b\b\b\b\b\b\b\b\b\b\b\b\b\b\b\b\b\b\b\b\b\b\b\b\b\b\b\b\b\b\b\b\b\b\b\b\b\b\b\b\b\b\b\b\b\b\b\b\b\b\b\b\b\b\b\b\b\b\b\b\b\b\b\b\b\b\b\b\b\b\b\b\r1000/1000 [==============================] - 518s 518ms/step - loss: 7.4425e-05 - encoder_attr_loss: 3.5395e-06 - decoder_attr_loss: 7.4425e-05 - val_loss: 7.4141e-05 - val_encoder_attr_loss: 3.5356e-06 - val_decoder_attr_loss: 7.4141e-05\n",
            "Epoch 5/40\n",
            "1000/1000 [==============================] - ETA: 0s - loss: 7.4395e-05 - encoder_attr_loss: 3.5379e-06 - decoder_attr_loss: 7.4395e-05\n",
            "Epoch 5: saving model to /content/drive/MyDrive/model.tf\n"
          ]
        },
        {
          "name": "stderr",
          "output_type": "stream",
          "text": [
            "WARNING:absl:Found untraced functions such as _jit_compiled_convolution_op, _jit_compiled_convolution_op, _jit_compiled_convolution_op, _jit_compiled_convolution_op, _jit_compiled_convolution_op while saving (showing 5 of 8). These functions will not be directly callable after loading.\n"
          ]
        },
        {
          "name": "stdout",
          "output_type": "stream",
          "text": [
            "\n",
            "Epoch 5: saving model to /content/drive/MyDrive/model_weights/model.weights\n",
            "\n",
            "Saved model epoch 4 at /content/drive/MyDrive/encoder.tf\n"
          ]
        },
        {
          "name": "stderr",
          "output_type": "stream",
          "text": [
            "WARNING:absl:Found untraced functions such as _jit_compiled_convolution_op, _jit_compiled_convolution_op, _jit_compiled_convolution_op, _jit_compiled_convolution_op, _jit_compiled_convolution_op while saving (showing 5 of 8). These functions will not be directly callable after loading.\n"
          ]
        },
        {
          "name": "stdout",
          "output_type": "stream",
          "text": [
            "\b\b\b\b\b\b\b\b\b\b\b\b\b\b\b\b\b\b\b\b\b\b\b\b\b\b\b\b\b\b\b\b\b\b\b\b\b\b\b\b\b\b\b\b\b\b\b\b\b\b\b\b\b\b\b\b\b\b\b\b\b\b\b\b\b\b\b\b\b\b\b\b\b\b\b\b\b\b\b\b\b\b\b\b\b\b\b\b\b\b\b\b\b\b\b\b\b\b\b\b\b\b\b\b\b\b\b\b\b\b\b\b\b\b\b\b\b\b\b\b\b\b\b\b\b\b\b\b\b\b\b\b\b\b\b\r1000/1000 [==============================] - 475s 475ms/step - loss: 7.4395e-05 - encoder_attr_loss: 3.5379e-06 - decoder_attr_loss: 7.4395e-05 - val_loss: 7.4111e-05 - val_encoder_attr_loss: 3.5341e-06 - val_decoder_attr_loss: 7.4111e-05\n",
            "Epoch 6/40\n",
            "1000/1000 [==============================] - ETA: 0s - loss: 7.4367e-05 - encoder_attr_loss: 3.5365e-06 - decoder_attr_loss: 7.4367e-05\n",
            "Epoch 6: saving model to /content/drive/MyDrive/model.tf\n"
          ]
        },
        {
          "name": "stderr",
          "output_type": "stream",
          "text": [
            "WARNING:absl:Found untraced functions such as _jit_compiled_convolution_op, _jit_compiled_convolution_op, _jit_compiled_convolution_op, _jit_compiled_convolution_op, _jit_compiled_convolution_op while saving (showing 5 of 8). These functions will not be directly callable after loading.\n"
          ]
        },
        {
          "name": "stdout",
          "output_type": "stream",
          "text": [
            "\n",
            "Epoch 6: saving model to /content/drive/MyDrive/model_weights/model.weights\n",
            "\n",
            "Saved model epoch 5 at /content/drive/MyDrive/encoder.tf\n"
          ]
        },
        {
          "name": "stderr",
          "output_type": "stream",
          "text": [
            "WARNING:absl:Found untraced functions such as _jit_compiled_convolution_op, _jit_compiled_convolution_op, _jit_compiled_convolution_op, _jit_compiled_convolution_op, _jit_compiled_convolution_op while saving (showing 5 of 8). These functions will not be directly callable after loading.\n"
          ]
        },
        {
          "name": "stdout",
          "output_type": "stream",
          "text": [
            "\b\b\b\b\b\b\b\b\b\b\b\b\b\b\b\b\b\b\b\b\b\b\b\b\b\b\b\b\b\b\b\b\b\b\b\b\b\b\b\b\b\b\b\b\b\b\b\b\b\b\b\b\b\b\b\b\b\b\b\b\b\b\b\b\b\b\b\b\b\b\b\b\b\b\b\b\b\b\b\b\b\b\b\b\b\b\b\b\b\b\b\b\b\b\b\b\b\b\b\b\b\b\b\b\b\b\b\b\b\b\b\b\b\b\b\b\b\b\b\b\b\b\b\b\b\b\b\b\b\b\b\b\b\b\b\r1000/1000 [==============================] - 489s 489ms/step - loss: 7.4367e-05 - encoder_attr_loss: 3.5365e-06 - decoder_attr_loss: 7.4367e-05 - val_loss: 7.4085e-05 - val_encoder_attr_loss: 3.5327e-06 - val_decoder_attr_loss: 7.4085e-05\n",
            "Epoch 7/40\n",
            "1000/1000 [==============================] - ETA: 0s - loss: 7.4342e-05 - encoder_attr_loss: 3.5351e-06 - decoder_attr_loss: 7.4342e-05\n",
            "Epoch 7: saving model to /content/drive/MyDrive/model.tf\n"
          ]
        },
        {
          "name": "stderr",
          "output_type": "stream",
          "text": [
            "WARNING:absl:Found untraced functions such as _jit_compiled_convolution_op, _jit_compiled_convolution_op, _jit_compiled_convolution_op, _jit_compiled_convolution_op, _jit_compiled_convolution_op while saving (showing 5 of 8). These functions will not be directly callable after loading.\n"
          ]
        },
        {
          "name": "stdout",
          "output_type": "stream",
          "text": [
            "\n",
            "Epoch 7: saving model to /content/drive/MyDrive/model_weights/model.weights\n",
            "\n",
            "Saved model epoch 6 at /content/drive/MyDrive/encoder.tf\n"
          ]
        },
        {
          "name": "stderr",
          "output_type": "stream",
          "text": [
            "WARNING:absl:Found untraced functions such as _jit_compiled_convolution_op, _jit_compiled_convolution_op, _jit_compiled_convolution_op, _jit_compiled_convolution_op, _jit_compiled_convolution_op while saving (showing 5 of 8). These functions will not be directly callable after loading.\n"
          ]
        },
        {
          "name": "stdout",
          "output_type": "stream",
          "text": [
            "\b\b\b\b\b\b\b\b\b\b\b\b\b\b\b\b\b\b\b\b\b\b\b\b\b\b\b\b\b\b\b\b\b\b\b\b\b\b\b\b\b\b\b\b\b\b\b\b\b\b\b\b\b\b\b\b\b\b\b\b\b\b\b\b\b\b\b\b\b\b\b\b\b\b\b\b\b\b\b\b\b\b\b\b\b\b\b\b\b\b\b\b\b\b\b\b\b\b\b\b\b\b\b\b\b\b\b\b\b\b\b\b\b\b\b\b\b\b\b\b\b\b\b\b\b\b\b\b\b\b\b\b\b\b\b\r1000/1000 [==============================] - 524s 524ms/step - loss: 7.4342e-05 - encoder_attr_loss: 3.5351e-06 - decoder_attr_loss: 7.4342e-05 - val_loss: 7.4061e-05 - val_encoder_attr_loss: 3.5314e-06 - val_decoder_attr_loss: 7.4061e-05\n",
            "Epoch 8/40\n",
            "1000/1000 [==============================] - ETA: 0s - loss: 7.4319e-05 - encoder_attr_loss: 3.5339e-06 - decoder_attr_loss: 7.4319e-05\n",
            "Epoch 8: saving model to /content/drive/MyDrive/model.tf\n"
          ]
        },
        {
          "name": "stderr",
          "output_type": "stream",
          "text": [
            "WARNING:absl:Found untraced functions such as _jit_compiled_convolution_op, _jit_compiled_convolution_op, _jit_compiled_convolution_op, _jit_compiled_convolution_op, _jit_compiled_convolution_op while saving (showing 5 of 8). These functions will not be directly callable after loading.\n"
          ]
        },
        {
          "name": "stdout",
          "output_type": "stream",
          "text": [
            "\n",
            "Epoch 8: saving model to /content/drive/MyDrive/model_weights/model.weights\n",
            "\n",
            "Saved model epoch 7 at /content/drive/MyDrive/encoder.tf\n"
          ]
        },
        {
          "name": "stderr",
          "output_type": "stream",
          "text": [
            "WARNING:absl:Found untraced functions such as _jit_compiled_convolution_op, _jit_compiled_convolution_op, _jit_compiled_convolution_op, _jit_compiled_convolution_op, _jit_compiled_convolution_op while saving (showing 5 of 8). These functions will not be directly callable after loading.\n"
          ]
        },
        {
          "name": "stdout",
          "output_type": "stream",
          "text": [
            "\b\b\b\b\b\b\b\b\b\b\b\b\b\b\b\b\b\b\b\b\b\b\b\b\b\b\b\b\b\b\b\b\b\b\b\b\b\b\b\b\b\b\b\b\b\b\b\b\b\b\b\b\b\b\b\b\b\b\b\b\b\b\b\b\b\b\b\b\b\b\b\b\b\b\b\b\b\b\b\b\b\b\b\b\b\b\b\b\b\b\b\b\b\b\b\b\b\b\b\b\b\b\b\b\b\b\b\b\b\b\b\b\b\b\b\b\b\b\b\b\b\b\b\b\b\b\b\b\b\b\b\b\b\b\b\r1000/1000 [==============================] - 518s 518ms/step - loss: 7.4319e-05 - encoder_attr_loss: 3.5339e-06 - decoder_attr_loss: 7.4319e-05 - val_loss: 7.4039e-05 - val_encoder_attr_loss: 3.5302e-06 - val_decoder_attr_loss: 7.4039e-05\n",
            "Epoch 9/40\n",
            "1000/1000 [==============================] - ETA: 0s - loss: 7.4298e-05 - encoder_attr_loss: 3.5327e-06 - decoder_attr_loss: 7.4298e-05\n",
            "Epoch 9: saving model to /content/drive/MyDrive/model.tf\n"
          ]
        },
        {
          "name": "stderr",
          "output_type": "stream",
          "text": [
            "WARNING:absl:Found untraced functions such as _jit_compiled_convolution_op, _jit_compiled_convolution_op, _jit_compiled_convolution_op, _jit_compiled_convolution_op, _jit_compiled_convolution_op while saving (showing 5 of 8). These functions will not be directly callable after loading.\n"
          ]
        },
        {
          "name": "stdout",
          "output_type": "stream",
          "text": [
            "\n",
            "Epoch 9: saving model to /content/drive/MyDrive/model_weights/model.weights\n",
            "\n",
            "Saved model epoch 8 at /content/drive/MyDrive/encoder.tf\n"
          ]
        },
        {
          "name": "stderr",
          "output_type": "stream",
          "text": [
            "WARNING:absl:Found untraced functions such as _jit_compiled_convolution_op, _jit_compiled_convolution_op, _jit_compiled_convolution_op, _jit_compiled_convolution_op, _jit_compiled_convolution_op while saving (showing 5 of 8). These functions will not be directly callable after loading.\n"
          ]
        },
        {
          "name": "stdout",
          "output_type": "stream",
          "text": [
            "\b\b\b\b\b\b\b\b\b\b\b\b\b\b\b\b\b\b\b\b\b\b\b\b\b\b\b\b\b\b\b\b\b\b\b\b\b\b\b\b\b\b\b\b\b\b\b\b\b\b\b\b\b\b\b\b\b\b\b\b\b\b\b\b\b\b\b\b\b\b\b\b\b\b\b\b\b\b\b\b\b\b\b\b\b\b\b\b\b\b\b\b\b\b\b\b\b\b\b\b\b\b\b\b\b\b\b\b\b\b\b\b\b\b\b\b\b\b\b\b\b\b\b\b\b\b\b\b\b\b\b\b\b\b\b\r1000/1000 [==============================] - 475s 475ms/step - loss: 7.4298e-05 - encoder_attr_loss: 3.5327e-06 - decoder_attr_loss: 7.4298e-05 - val_loss: 7.4019e-05 - val_encoder_attr_loss: 3.5291e-06 - val_decoder_attr_loss: 7.4019e-05\n",
            "Epoch 10/40\n",
            "1000/1000 [==============================] - ETA: 0s - loss: 7.4279e-05 - encoder_attr_loss: 3.5316e-06 - decoder_attr_loss: 7.4279e-05\n",
            "Epoch 10: saving model to /content/drive/MyDrive/model.tf\n"
          ]
        },
        {
          "name": "stderr",
          "output_type": "stream",
          "text": [
            "WARNING:absl:Found untraced functions such as _jit_compiled_convolution_op, _jit_compiled_convolution_op, _jit_compiled_convolution_op, _jit_compiled_convolution_op, _jit_compiled_convolution_op while saving (showing 5 of 8). These functions will not be directly callable after loading.\n"
          ]
        },
        {
          "name": "stdout",
          "output_type": "stream",
          "text": [
            "\n",
            "Epoch 10: saving model to /content/drive/MyDrive/model_weights/model.weights\n",
            "\n",
            "Saved model epoch 9 at /content/drive/MyDrive/encoder.tf\n"
          ]
        },
        {
          "name": "stderr",
          "output_type": "stream",
          "text": [
            "WARNING:absl:Found untraced functions such as _jit_compiled_convolution_op, _jit_compiled_convolution_op, _jit_compiled_convolution_op, _jit_compiled_convolution_op, _jit_compiled_convolution_op while saving (showing 5 of 8). These functions will not be directly callable after loading.\n"
          ]
        },
        {
          "name": "stdout",
          "output_type": "stream",
          "text": [
            "\b\b\b\b\b\b\b\b\b\b\b\b\b\b\b\b\b\b\b\b\b\b\b\b\b\b\b\b\b\b\b\b\b\b\b\b\b\b\b\b\b\b\b\b\b\b\b\b\b\b\b\b\b\b\b\b\b\b\b\b\b\b\b\b\b\b\b\b\b\b\b\b\b\b\b\b\b\b\b\b\b\b\b\b\b\b\b\b\b\b\b\b\b\b\b\b\b\b\b\b\b\b\b\b\b\b\b\b\b\b\b\b\b\b\b\b\b\b\b\b\b\b\b\b\b\b\b\b\b\b\b\b\b\b\b\r1000/1000 [==============================] - 473s 473ms/step - loss: 7.4279e-05 - encoder_attr_loss: 3.5316e-06 - decoder_attr_loss: 7.4279e-05 - val_loss: 7.4001e-05 - val_encoder_attr_loss: 3.5280e-06 - val_decoder_attr_loss: 7.4001e-05\n",
            "Epoch 11/40\n",
            "1000/1000 [==============================] - ETA: 0s - loss: 7.4261e-05 - encoder_attr_loss: 3.5306e-06 - decoder_attr_loss: 7.4261e-05\n",
            "Epoch 11: saving model to /content/drive/MyDrive/model.tf\n"
          ]
        },
        {
          "name": "stderr",
          "output_type": "stream",
          "text": [
            "WARNING:absl:Found untraced functions such as _jit_compiled_convolution_op, _jit_compiled_convolution_op, _jit_compiled_convolution_op, _jit_compiled_convolution_op, _jit_compiled_convolution_op while saving (showing 5 of 8). These functions will not be directly callable after loading.\n"
          ]
        },
        {
          "name": "stdout",
          "output_type": "stream",
          "text": [
            "\n",
            "Epoch 11: saving model to /content/drive/MyDrive/model_weights/model.weights\n",
            "\n",
            "Saved model epoch 10 at /content/drive/MyDrive/encoder.tf\n"
          ]
        },
        {
          "name": "stderr",
          "output_type": "stream",
          "text": [
            "WARNING:absl:Found untraced functions such as _jit_compiled_convolution_op, _jit_compiled_convolution_op, _jit_compiled_convolution_op, _jit_compiled_convolution_op, _jit_compiled_convolution_op while saving (showing 5 of 8). These functions will not be directly callable after loading.\n"
          ]
        },
        {
          "name": "stdout",
          "output_type": "stream",
          "text": [
            "\b\b\b\b\b\b\b\b\b\b\b\b\b\b\b\b\b\b\b\b\b\b\b\b\b\b\b\b\b\b\b\b\b\b\b\b\b\b\b\b\b\b\b\b\b\b\b\b\b\b\b\b\b\b\b\b\b\b\b\b\b\b\b\b\b\b\b\b\b\b\b\b\b\b\b\b\b\b\b\b\b\b\b\b\b\b\b\b\b\b\b\b\b\b\b\b\b\b\b\b\b\b\b\b\b\b\b\b\b\b\b\b\b\b\b\b\b\b\b\b\b\b\b\b\b\b\b\b\b\b\b\b\b\b\b\r1000/1000 [==============================] - 471s 470ms/step - loss: 7.4261e-05 - encoder_attr_loss: 3.5306e-06 - decoder_attr_loss: 7.4261e-05 - val_loss: 7.3985e-05 - val_encoder_attr_loss: 3.5271e-06 - val_decoder_attr_loss: 7.3985e-05\n",
            "Epoch 12/40\n",
            "1000/1000 [==============================] - ETA: 0s - loss: 7.4245e-05 - encoder_attr_loss: 3.5297e-06 - decoder_attr_loss: 7.4245e-05\n",
            "Epoch 12: saving model to /content/drive/MyDrive/model.tf\n"
          ]
        },
        {
          "name": "stderr",
          "output_type": "stream",
          "text": [
            "WARNING:absl:Found untraced functions such as _jit_compiled_convolution_op, _jit_compiled_convolution_op, _jit_compiled_convolution_op, _jit_compiled_convolution_op, _jit_compiled_convolution_op while saving (showing 5 of 8). These functions will not be directly callable after loading.\n"
          ]
        },
        {
          "name": "stdout",
          "output_type": "stream",
          "text": [
            "\n",
            "Epoch 12: saving model to /content/drive/MyDrive/model_weights/model.weights\n",
            "\n",
            "Saved model epoch 11 at /content/drive/MyDrive/encoder.tf\n"
          ]
        },
        {
          "name": "stderr",
          "output_type": "stream",
          "text": [
            "WARNING:absl:Found untraced functions such as _jit_compiled_convolution_op, _jit_compiled_convolution_op, _jit_compiled_convolution_op, _jit_compiled_convolution_op, _jit_compiled_convolution_op while saving (showing 5 of 8). These functions will not be directly callable after loading.\n"
          ]
        },
        {
          "name": "stdout",
          "output_type": "stream",
          "text": [
            "\b\b\b\b\b\b\b\b\b\b\b\b\b\b\b\b\b\b\b\b\b\b\b\b\b\b\b\b\b\b\b\b\b\b\b\b\b\b\b\b\b\b\b\b\b\b\b\b\b\b\b\b\b\b\b\b\b\b\b\b\b\b\b\b\b\b\b\b\b\b\b\b\b\b\b\b\b\b\b\b\b\b\b\b\b\b\b\b\b\b\b\b\b\b\b\b\b\b\b\b\b\b\b\b\b\b\b\b\b\b\b\b\b\b\b\b\b\b\b\b\b\b\b\b\b\b\b\b\b\b\b\b\b\b\b\r1000/1000 [==============================] - 471s 471ms/step - loss: 7.4245e-05 - encoder_attr_loss: 3.5297e-06 - decoder_attr_loss: 7.4245e-05 - val_loss: 7.3970e-05 - val_encoder_attr_loss: 3.5262e-06 - val_decoder_attr_loss: 7.3970e-05\n",
            "Epoch 13/40\n",
            "1000/1000 [==============================] - ETA: 0s - loss: 7.4231e-05 - encoder_attr_loss: 3.5288e-06 - decoder_attr_loss: 7.4231e-05\n",
            "Epoch 13: saving model to /content/drive/MyDrive/model.tf\n"
          ]
        },
        {
          "name": "stderr",
          "output_type": "stream",
          "text": [
            "WARNING:absl:Found untraced functions such as _jit_compiled_convolution_op, _jit_compiled_convolution_op, _jit_compiled_convolution_op, _jit_compiled_convolution_op, _jit_compiled_convolution_op while saving (showing 5 of 8). These functions will not be directly callable after loading.\n"
          ]
        },
        {
          "name": "stdout",
          "output_type": "stream",
          "text": [
            "\n",
            "Epoch 13: saving model to /content/drive/MyDrive/model_weights/model.weights\n",
            "\n",
            "Saved model epoch 12 at /content/drive/MyDrive/encoder.tf\n"
          ]
        },
        {
          "name": "stderr",
          "output_type": "stream",
          "text": [
            "WARNING:absl:Found untraced functions such as _jit_compiled_convolution_op, _jit_compiled_convolution_op, _jit_compiled_convolution_op, _jit_compiled_convolution_op, _jit_compiled_convolution_op while saving (showing 5 of 8). These functions will not be directly callable after loading.\n"
          ]
        },
        {
          "name": "stdout",
          "output_type": "stream",
          "text": [
            "\b\b\b\b\b\b\b\b\b\b\b\b\b\b\b\b\b\b\b\b\b\b\b\b\b\b\b\b\b\b\b\b\b\b\b\b\b\b\b\b\b\b\b\b\b\b\b\b\b\b\b\b\b\b\b\b\b\b\b\b\b\b\b\b\b\b\b\b\b\b\b\b\b\b\b\b\b\b\b\b\b\b\b\b\b\b\b\b\b\b\b\b\b\b\b\b\b\b\b\b\b\b\b\b\b\b\b\b\b\b\b\b\b\b\b\b\b\b\b\b\b\b\b\b\b\b\b\b\b\b\b\b\b\b\b\r1000/1000 [==============================] - 475s 475ms/step - loss: 7.4231e-05 - encoder_attr_loss: 3.5288e-06 - decoder_attr_loss: 7.4231e-05 - val_loss: 7.3956e-05 - val_encoder_attr_loss: 3.5253e-06 - val_decoder_attr_loss: 7.3956e-05\n",
            "Epoch 14/40\n",
            "1000/1000 [==============================] - ETA: 0s - loss: 7.4218e-05 - encoder_attr_loss: 3.5280e-06 - decoder_attr_loss: 7.4218e-05\n",
            "Epoch 14: saving model to /content/drive/MyDrive/model.tf\n"
          ]
        },
        {
          "name": "stderr",
          "output_type": "stream",
          "text": [
            "WARNING:absl:Found untraced functions such as _jit_compiled_convolution_op, _jit_compiled_convolution_op, _jit_compiled_convolution_op, _jit_compiled_convolution_op, _jit_compiled_convolution_op while saving (showing 5 of 8). These functions will not be directly callable after loading.\n"
          ]
        },
        {
          "name": "stdout",
          "output_type": "stream",
          "text": [
            "\n",
            "Epoch 14: saving model to /content/drive/MyDrive/model_weights/model.weights\n",
            "\n",
            "Saved model epoch 13 at /content/drive/MyDrive/encoder.tf\n"
          ]
        },
        {
          "name": "stderr",
          "output_type": "stream",
          "text": [
            "WARNING:absl:Found untraced functions such as _jit_compiled_convolution_op, _jit_compiled_convolution_op, _jit_compiled_convolution_op, _jit_compiled_convolution_op, _jit_compiled_convolution_op while saving (showing 5 of 8). These functions will not be directly callable after loading.\n"
          ]
        },
        {
          "name": "stdout",
          "output_type": "stream",
          "text": [
            "\b\b\b\b\b\b\b\b\b\b\b\b\b\b\b\b\b\b\b\b\b\b\b\b\b\b\b\b\b\b\b\b\b\b\b\b\b\b\b\b\b\b\b\b\b\b\b\b\b\b\b\b\b\b\b\b\b\b\b\b\b\b\b\b\b\b\b\b\b\b\b\b\b\b\b\b\b\b\b\b\b\b\b\b\b\b\b\b\b\b\b\b\b\b\b\b\b\b\b\b\b\b\b\b\b\b\b\b\b\b\b\b\b\b\b\b\b\b\b\b\b\b\b\b\b\b\b\b\b\b\b\b\b\b\b\r1000/1000 [==============================] - 517s 517ms/step - loss: 7.4218e-05 - encoder_attr_loss: 3.5280e-06 - decoder_attr_loss: 7.4218e-05 - val_loss: 7.3943e-05 - val_encoder_attr_loss: 3.5245e-06 - val_decoder_attr_loss: 7.3943e-05\n",
            "Epoch 15/40\n",
            "1000/1000 [==============================] - ETA: 0s - loss: 7.4206e-05 - encoder_attr_loss: 3.5272e-06 - decoder_attr_loss: 7.4206e-05\n",
            "Epoch 15: saving model to /content/drive/MyDrive/model.tf\n"
          ]
        },
        {
          "name": "stderr",
          "output_type": "stream",
          "text": [
            "WARNING:absl:Found untraced functions such as _jit_compiled_convolution_op, _jit_compiled_convolution_op, _jit_compiled_convolution_op, _jit_compiled_convolution_op, _jit_compiled_convolution_op while saving (showing 5 of 8). These functions will not be directly callable after loading.\n"
          ]
        },
        {
          "name": "stdout",
          "output_type": "stream",
          "text": [
            "\n",
            "Epoch 15: saving model to /content/drive/MyDrive/model_weights/model.weights\n",
            "\n",
            "Saved model epoch 14 at /content/drive/MyDrive/encoder.tf\n"
          ]
        },
        {
          "name": "stderr",
          "output_type": "stream",
          "text": [
            "WARNING:absl:Found untraced functions such as _jit_compiled_convolution_op, _jit_compiled_convolution_op, _jit_compiled_convolution_op, _jit_compiled_convolution_op, _jit_compiled_convolution_op while saving (showing 5 of 8). These functions will not be directly callable after loading.\n"
          ]
        },
        {
          "name": "stdout",
          "output_type": "stream",
          "text": [
            "\b\b\b\b\b\b\b\b\b\b\b\b\b\b\b\b\b\b\b\b\b\b\b\b\b\b\b\b\b\b\b\b\b\b\b\b\b\b\b\b\b\b\b\b\b\b\b\b\b\b\b\b\b\b\b\b\b\b\b\b\b\b\b\b\b\b\b\b\b\b\b\b\b\b\b\b\b\b\b\b\b\b\b\b\b\b\b\b\b\b\b\b\b\b\b\b\b\b\b\b\b\b\b\b\b\b\b\b\b\b\b\b\b\b\b\b\b\b\b\b\b\b\b\b\b\b\b\b\b\b\b\b\b\b\b\r1000/1000 [==============================] - 474s 474ms/step - loss: 7.4206e-05 - encoder_attr_loss: 3.5272e-06 - decoder_attr_loss: 7.4206e-05 - val_loss: 7.3932e-05 - val_encoder_attr_loss: 3.5238e-06 - val_decoder_attr_loss: 7.3932e-05\n",
            "Epoch 16/40\n",
            "1000/1000 [==============================] - ETA: 0s - loss: 7.4195e-05 - encoder_attr_loss: 3.5265e-06 - decoder_attr_loss: 7.4195e-05\n",
            "Epoch 16: saving model to /content/drive/MyDrive/model.tf\n"
          ]
        },
        {
          "name": "stderr",
          "output_type": "stream",
          "text": [
            "WARNING:absl:Found untraced functions such as _jit_compiled_convolution_op, _jit_compiled_convolution_op, _jit_compiled_convolution_op, _jit_compiled_convolution_op, _jit_compiled_convolution_op while saving (showing 5 of 8). These functions will not be directly callable after loading.\n"
          ]
        },
        {
          "name": "stdout",
          "output_type": "stream",
          "text": [
            "\n",
            "Epoch 16: saving model to /content/drive/MyDrive/model_weights/model.weights\n",
            "\n",
            "Saved model epoch 15 at /content/drive/MyDrive/encoder.tf\n"
          ]
        },
        {
          "name": "stderr",
          "output_type": "stream",
          "text": [
            "WARNING:absl:Found untraced functions such as _jit_compiled_convolution_op, _jit_compiled_convolution_op, _jit_compiled_convolution_op, _jit_compiled_convolution_op, _jit_compiled_convolution_op while saving (showing 5 of 8). These functions will not be directly callable after loading.\n"
          ]
        },
        {
          "name": "stdout",
          "output_type": "stream",
          "text": [
            "\b\b\b\b\b\b\b\b\b\b\b\b\b\b\b\b\b\b\b\b\b\b\b\b\b\b\b\b\b\b\b\b\b\b\b\b\b\b\b\b\b\b\b\b\b\b\b\b\b\b\b\b\b\b\b\b\b\b\b\b\b\b\b\b\b\b\b\b\b\b\b\b\b\b\b\b\b\b\b\b\b\b\b\b\b\b\b\b\b\b\b\b\b\b\b\b\b\b\b\b\b\b\b\b\b\b\b\b\b\b\b\b\b\b\b\b\b\b\b\b\b\b\b\b\b\b\b\b\b\b\b\b\b\b\b\r1000/1000 [==============================] - 514s 514ms/step - loss: 7.4195e-05 - encoder_attr_loss: 3.5265e-06 - decoder_attr_loss: 7.4195e-05 - val_loss: 7.3922e-05 - val_encoder_attr_loss: 3.5231e-06 - val_decoder_attr_loss: 7.3922e-05\n",
            "Epoch 17/40\n",
            "1000/1000 [==============================] - ETA: 0s - loss: 7.4185e-05 - encoder_attr_loss: 3.5258e-06 - decoder_attr_loss: 7.4185e-05\n",
            "Epoch 17: saving model to /content/drive/MyDrive/model.tf\n"
          ]
        },
        {
          "name": "stderr",
          "output_type": "stream",
          "text": [
            "WARNING:absl:Found untraced functions such as _jit_compiled_convolution_op, _jit_compiled_convolution_op, _jit_compiled_convolution_op, _jit_compiled_convolution_op, _jit_compiled_convolution_op while saving (showing 5 of 8). These functions will not be directly callable after loading.\n"
          ]
        },
        {
          "name": "stdout",
          "output_type": "stream",
          "text": [
            "\n",
            "Epoch 17: saving model to /content/drive/MyDrive/model_weights/model.weights\n",
            "\n",
            "Saved model epoch 16 at /content/drive/MyDrive/encoder.tf\n"
          ]
        },
        {
          "name": "stderr",
          "output_type": "stream",
          "text": [
            "WARNING:absl:Found untraced functions such as _jit_compiled_convolution_op, _jit_compiled_convolution_op, _jit_compiled_convolution_op, _jit_compiled_convolution_op, _jit_compiled_convolution_op while saving (showing 5 of 8). These functions will not be directly callable after loading.\n"
          ]
        },
        {
          "name": "stdout",
          "output_type": "stream",
          "text": [
            "\b\b\b\b\b\b\b\b\b\b\b\b\b\b\b\b\b\b\b\b\b\b\b\b\b\b\b\b\b\b\b\b\b\b\b\b\b\b\b\b\b\b\b\b\b\b\b\b\b\b\b\b\b\b\b\b\b\b\b\b\b\b\b\b\b\b\b\b\b\b\b\b\b\b\b\b\b\b\b\b\b\b\b\b\b\b\b\b\b\b\b\b\b\b\b\b\b\b\b\b\b\b\b\b\b\b\b\b\b\b\b\b\b\b\b\b\b\b\b\b\b\b\b\b\b\b\b\b\b\b\b\b\b\b\b\r1000/1000 [==============================] - 476s 476ms/step - loss: 7.4185e-05 - encoder_attr_loss: 3.5258e-06 - decoder_attr_loss: 7.4185e-05 - val_loss: 7.3912e-05 - val_encoder_attr_loss: 3.5225e-06 - val_decoder_attr_loss: 7.3912e-05\n",
            "Epoch 18/40\n",
            "1000/1000 [==============================] - ETA: 0s - loss: 7.4176e-05 - encoder_attr_loss: 3.5252e-06 - decoder_attr_loss: 7.4176e-05\n",
            "Epoch 18: saving model to /content/drive/MyDrive/model.tf\n"
          ]
        },
        {
          "name": "stderr",
          "output_type": "stream",
          "text": [
            "WARNING:absl:Found untraced functions such as _jit_compiled_convolution_op, _jit_compiled_convolution_op, _jit_compiled_convolution_op, _jit_compiled_convolution_op, _jit_compiled_convolution_op while saving (showing 5 of 8). These functions will not be directly callable after loading.\n"
          ]
        },
        {
          "name": "stdout",
          "output_type": "stream",
          "text": [
            "\n",
            "Epoch 18: saving model to /content/drive/MyDrive/model_weights/model.weights\n",
            "\n",
            "Saved model epoch 17 at /content/drive/MyDrive/encoder.tf\n"
          ]
        },
        {
          "name": "stderr",
          "output_type": "stream",
          "text": [
            "WARNING:absl:Found untraced functions such as _jit_compiled_convolution_op, _jit_compiled_convolution_op, _jit_compiled_convolution_op, _jit_compiled_convolution_op, _jit_compiled_convolution_op while saving (showing 5 of 8). These functions will not be directly callable after loading.\n"
          ]
        },
        {
          "name": "stdout",
          "output_type": "stream",
          "text": [
            "\b\b\b\b\b\b\b\b\b\b\b\b\b\b\b\b\b\b\b\b\b\b\b\b\b\b\b\b\b\b\b\b\b\b\b\b\b\b\b\b\b\b\b\b\b\b\b\b\b\b\b\b\b\b\b\b\b\b\b\b\b\b\b\b\b\b\b\b\b\b\b\b\b\b\b\b\b\b\b\b\b\b\b\b\b\b\b\b\b\b\b\b\b\b\b\b\b\b\b\b\b\b\b\b\b\b\b\b\b\b\b\b\b\b\b\b\b\b\b\b\b\b\b\b\b\b\b\b\b\b\b\b\b\b\b\r1000/1000 [==============================] - 475s 475ms/step - loss: 7.4176e-05 - encoder_attr_loss: 3.5252e-06 - decoder_attr_loss: 7.4176e-05 - val_loss: 7.3903e-05 - val_encoder_attr_loss: 3.5219e-06 - val_decoder_attr_loss: 7.3903e-05\n",
            "Epoch 19/40\n",
            "1000/1000 [==============================] - ETA: 0s - loss: 7.4167e-05 - encoder_attr_loss: 3.5246e-06 - decoder_attr_loss: 7.4167e-05\n",
            "Epoch 19: saving model to /content/drive/MyDrive/model.tf\n"
          ]
        },
        {
          "name": "stderr",
          "output_type": "stream",
          "text": [
            "WARNING:absl:Found untraced functions such as _jit_compiled_convolution_op, _jit_compiled_convolution_op, _jit_compiled_convolution_op, _jit_compiled_convolution_op, _jit_compiled_convolution_op while saving (showing 5 of 8). These functions will not be directly callable after loading.\n"
          ]
        },
        {
          "name": "stdout",
          "output_type": "stream",
          "text": [
            "\n",
            "Epoch 19: saving model to /content/drive/MyDrive/model_weights/model.weights\n",
            "\n",
            "Saved model epoch 18 at /content/drive/MyDrive/encoder.tf\n"
          ]
        },
        {
          "name": "stderr",
          "output_type": "stream",
          "text": [
            "WARNING:absl:Found untraced functions such as _jit_compiled_convolution_op, _jit_compiled_convolution_op, _jit_compiled_convolution_op, _jit_compiled_convolution_op, _jit_compiled_convolution_op while saving (showing 5 of 8). These functions will not be directly callable after loading.\n"
          ]
        },
        {
          "name": "stdout",
          "output_type": "stream",
          "text": [
            "\b\b\b\b\b\b\b\b\b\b\b\b\b\b\b\b\b\b\b\b\b\b\b\b\b\b\b\b\b\b\b\b\b\b\b\b\b\b\b\b\b\b\b\b\b\b\b\b\b\b\b\b\b\b\b\b\b\b\b\b\b\b\b\b\b\b\b\b\b\b\b\b\b\b\b\b\b\b\b\b\b\b\b\b\b\b\b\b\b\b\b\b\b\b\b\b\b\b\b\b\b\b\b\b\b\b\b\b\b\b\b\b\b\b\b\b\b\b\b\b\b\b\b\b\b\b\b\b\b\b\b\b\b\b\b\r1000/1000 [==============================] - 473s 473ms/step - loss: 7.4167e-05 - encoder_attr_loss: 3.5246e-06 - decoder_attr_loss: 7.4167e-05 - val_loss: 7.3895e-05 - val_encoder_attr_loss: 3.5213e-06 - val_decoder_attr_loss: 7.3895e-05\n",
            "Epoch 20/40\n",
            "1000/1000 [==============================] - ETA: 0s - loss: 7.4160e-05 - encoder_attr_loss: 3.5241e-06 - decoder_attr_loss: 7.4160e-05\n",
            "Epoch 20: saving model to /content/drive/MyDrive/model.tf\n"
          ]
        },
        {
          "name": "stderr",
          "output_type": "stream",
          "text": [
            "WARNING:absl:Found untraced functions such as _jit_compiled_convolution_op, _jit_compiled_convolution_op, _jit_compiled_convolution_op, _jit_compiled_convolution_op, _jit_compiled_convolution_op while saving (showing 5 of 8). These functions will not be directly callable after loading.\n"
          ]
        },
        {
          "name": "stdout",
          "output_type": "stream",
          "text": [
            "\n",
            "Epoch 20: saving model to /content/drive/MyDrive/model_weights/model.weights\n",
            "\n",
            "Saved model epoch 19 at /content/drive/MyDrive/encoder.tf\n"
          ]
        },
        {
          "name": "stderr",
          "output_type": "stream",
          "text": [
            "WARNING:absl:Found untraced functions such as _jit_compiled_convolution_op, _jit_compiled_convolution_op, _jit_compiled_convolution_op, _jit_compiled_convolution_op, _jit_compiled_convolution_op while saving (showing 5 of 8). These functions will not be directly callable after loading.\n"
          ]
        },
        {
          "name": "stdout",
          "output_type": "stream",
          "text": [
            "\b\b\b\b\b\b\b\b\b\b\b\b\b\b\b\b\b\b\b\b\b\b\b\b\b\b\b\b\b\b\b\b\b\b\b\b\b\b\b\b\b\b\b\b\b\b\b\b\b\b\b\b\b\b\b\b\b\b\b\b\b\b\b\b\b\b\b\b\b\b\b\b\b\b\b\b\b\b\b\b\b\b\b\b\b\b\b\b\b\b\b\b\b\b\b\b\b\b\b\b\b\b\b\b\b\b\b\b\b\b\b\b\b\b\b\b\b\b\b\b\b\b\b\b\b\b\b\b\b\b\b\b\b\b\b\r1000/1000 [==============================] - 475s 475ms/step - loss: 7.4160e-05 - encoder_attr_loss: 3.5241e-06 - decoder_attr_loss: 7.4160e-05 - val_loss: 7.3888e-05 - val_encoder_attr_loss: 3.5208e-06 - val_decoder_attr_loss: 7.3888e-05\n",
            "Epoch 21/40\n",
            "1000/1000 [==============================] - ETA: 0s - loss: 7.4153e-05 - encoder_attr_loss: 3.5236e-06 - decoder_attr_loss: 7.4153e-05\n",
            "Epoch 21: saving model to /content/drive/MyDrive/model.tf\n"
          ]
        },
        {
          "name": "stderr",
          "output_type": "stream",
          "text": [
            "WARNING:absl:Found untraced functions such as _jit_compiled_convolution_op, _jit_compiled_convolution_op, _jit_compiled_convolution_op, _jit_compiled_convolution_op, _jit_compiled_convolution_op while saving (showing 5 of 8). These functions will not be directly callable after loading.\n"
          ]
        },
        {
          "name": "stdout",
          "output_type": "stream",
          "text": [
            "\n",
            "Epoch 21: saving model to /content/drive/MyDrive/model_weights/model.weights\n",
            "\n",
            "Saved model epoch 20 at /content/drive/MyDrive/encoder.tf\n"
          ]
        },
        {
          "name": "stderr",
          "output_type": "stream",
          "text": [
            "WARNING:absl:Found untraced functions such as _jit_compiled_convolution_op, _jit_compiled_convolution_op, _jit_compiled_convolution_op, _jit_compiled_convolution_op, _jit_compiled_convolution_op while saving (showing 5 of 8). These functions will not be directly callable after loading.\n"
          ]
        },
        {
          "name": "stdout",
          "output_type": "stream",
          "text": [
            "\b\b\b\b\b\b\b\b\b\b\b\b\b\b\b\b\b\b\b\b\b\b\b\b\b\b\b\b\b\b\b\b\b\b\b\b\b\b\b\b\b\b\b\b\b\b\b\b\b\b\b\b\b\b\b\b\b\b\b\b\b\b\b\b\b\b\b\b\b\b\b\b\b\b\b\b\b\b\b\b\b\b\b\b\b\b\b\b\b\b\b\b\b\b\b\b\b\b\b\b\b\b\b\b\b\b\b\b\b\b\b\b\b\b\b\b\b\b\b\b\b\b\b\b\b\b\b\b\b\b\b\b\b\b\b\r1000/1000 [==============================] - 473s 473ms/step - loss: 7.4153e-05 - encoder_attr_loss: 3.5236e-06 - decoder_attr_loss: 7.4153e-05 - val_loss: 7.3881e-05 - val_encoder_attr_loss: 3.5203e-06 - val_decoder_attr_loss: 7.3881e-05\n",
            "Epoch 22/40\n",
            "1000/1000 [==============================] - ETA: 0s - loss: 7.4146e-05 - encoder_attr_loss: 3.5231e-06 - decoder_attr_loss: 7.4146e-05\n",
            "Epoch 22: saving model to /content/drive/MyDrive/model.tf\n"
          ]
        },
        {
          "name": "stderr",
          "output_type": "stream",
          "text": [
            "WARNING:absl:Found untraced functions such as _jit_compiled_convolution_op, _jit_compiled_convolution_op, _jit_compiled_convolution_op, _jit_compiled_convolution_op, _jit_compiled_convolution_op while saving (showing 5 of 8). These functions will not be directly callable after loading.\n"
          ]
        },
        {
          "name": "stdout",
          "output_type": "stream",
          "text": [
            "\n",
            "Epoch 22: saving model to /content/drive/MyDrive/model_weights/model.weights\n",
            "\n",
            "Saved model epoch 21 at /content/drive/MyDrive/encoder.tf\n"
          ]
        },
        {
          "name": "stderr",
          "output_type": "stream",
          "text": [
            "WARNING:absl:Found untraced functions such as _jit_compiled_convolution_op, _jit_compiled_convolution_op, _jit_compiled_convolution_op, _jit_compiled_convolution_op, _jit_compiled_convolution_op while saving (showing 5 of 8). These functions will not be directly callable after loading.\n"
          ]
        },
        {
          "name": "stdout",
          "output_type": "stream",
          "text": [
            "\b\b\b\b\b\b\b\b\b\b\b\b\b\b\b\b\b\b\b\b\b\b\b\b\b\b\b\b\b\b\b\b\b\b\b\b\b\b\b\b\b\b\b\b\b\b\b\b\b\b\b\b\b\b\b\b\b\b\b\b\b\b\b\b\b\b\b\b\b\b\b\b\b\b\b\b\b\b\b\b\b\b\b\b\b\b\b\b\b\b\b\b\b\b\b\b\b\b\b\b\b\b\b\b\b\b\b\b\b\b\b\b\b\b\b\b\b\b\b\b\b\b\b\b\b\b\b\b\b\b\b\b\b\b\b\r1000/1000 [==============================] - 471s 471ms/step - loss: 7.4146e-05 - encoder_attr_loss: 3.5231e-06 - decoder_attr_loss: 7.4146e-05 - val_loss: 7.3875e-05 - val_encoder_attr_loss: 3.5198e-06 - val_decoder_attr_loss: 7.3875e-05\n",
            "Epoch 23/40\n",
            "1000/1000 [==============================] - ETA: 0s - loss: 7.4140e-05 - encoder_attr_loss: 3.5227e-06 - decoder_attr_loss: 7.4140e-05\n",
            "Epoch 23: saving model to /content/drive/MyDrive/model.tf\n"
          ]
        },
        {
          "name": "stderr",
          "output_type": "stream",
          "text": [
            "WARNING:absl:Found untraced functions such as _jit_compiled_convolution_op, _jit_compiled_convolution_op, _jit_compiled_convolution_op, _jit_compiled_convolution_op, _jit_compiled_convolution_op while saving (showing 5 of 8). These functions will not be directly callable after loading.\n"
          ]
        },
        {
          "name": "stdout",
          "output_type": "stream",
          "text": [
            "\n",
            "Epoch 23: saving model to /content/drive/MyDrive/model_weights/model.weights\n",
            "\n",
            "Saved model epoch 22 at /content/drive/MyDrive/encoder.tf\n"
          ]
        },
        {
          "name": "stderr",
          "output_type": "stream",
          "text": [
            "WARNING:absl:Found untraced functions such as _jit_compiled_convolution_op, _jit_compiled_convolution_op, _jit_compiled_convolution_op, _jit_compiled_convolution_op, _jit_compiled_convolution_op while saving (showing 5 of 8). These functions will not be directly callable after loading.\n"
          ]
        },
        {
          "name": "stdout",
          "output_type": "stream",
          "text": [
            "\b\b\b\b\b\b\b\b\b\b\b\b\b\b\b\b\b\b\b\b\b\b\b\b\b\b\b\b\b\b\b\b\b\b\b\b\b\b\b\b\b\b\b\b\b\b\b\b\b\b\b\b\b\b\b\b\b\b\b\b\b\b\b\b\b\b\b\b\b\b\b\b\b\b\b\b\b\b\b\b\b\b\b\b\b\b\b\b\b\b\b\b\b\b\b\b\b\b\b\b\b\b\b\b\b\b\b\b\b\b\b\b\b\b\b\b\b\b\b\b\b\b\b\b\b\b\b\b\b\b\b\b\b\b\b\r1000/1000 [==============================] - 469s 469ms/step - loss: 7.4140e-05 - encoder_attr_loss: 3.5227e-06 - decoder_attr_loss: 7.4140e-05 - val_loss: 7.3870e-05 - val_encoder_attr_loss: 3.5194e-06 - val_decoder_attr_loss: 7.3870e-05\n",
            "Epoch 24/40\n",
            "1000/1000 [==============================] - ETA: 0s - loss: 7.4135e-05 - encoder_attr_loss: 3.5223e-06 - decoder_attr_loss: 7.4135e-05\n",
            "Epoch 24: saving model to /content/drive/MyDrive/model.tf\n"
          ]
        },
        {
          "name": "stderr",
          "output_type": "stream",
          "text": [
            "WARNING:absl:Found untraced functions such as _jit_compiled_convolution_op, _jit_compiled_convolution_op, _jit_compiled_convolution_op, _jit_compiled_convolution_op, _jit_compiled_convolution_op while saving (showing 5 of 8). These functions will not be directly callable after loading.\n"
          ]
        },
        {
          "name": "stdout",
          "output_type": "stream",
          "text": [
            "\n",
            "Epoch 24: saving model to /content/drive/MyDrive/model_weights/model.weights\n",
            "\n",
            "Saved model epoch 23 at /content/drive/MyDrive/encoder.tf\n"
          ]
        },
        {
          "name": "stderr",
          "output_type": "stream",
          "text": [
            "WARNING:absl:Found untraced functions such as _jit_compiled_convolution_op, _jit_compiled_convolution_op, _jit_compiled_convolution_op, _jit_compiled_convolution_op, _jit_compiled_convolution_op while saving (showing 5 of 8). These functions will not be directly callable after loading.\n"
          ]
        },
        {
          "name": "stdout",
          "output_type": "stream",
          "text": [
            "\b\b\b\b\b\b\b\b\b\b\b\b\b\b\b\b\b\b\b\b\b\b\b\b\b\b\b\b\b\b\b\b\b\b\b\b\b\b\b\b\b\b\b\b\b\b\b\b\b\b\b\b\b\b\b\b\b\b\b\b\b\b\b\b\b\b\b\b\b\b\b\b\b\b\b\b\b\b\b\b\b\b\b\b\b\b\b\b\b\b\b\b\b\b\b\b\b\b\b\b\b\b\b\b\b\b\b\b\b\b\b\b\b\b\b\b\b\b\b\b\b\b\b\b\b\b\b\b\b\b\b\b\b\b\b\r1000/1000 [==============================] - 476s 476ms/step - loss: 7.4135e-05 - encoder_attr_loss: 3.5223e-06 - decoder_attr_loss: 7.4135e-05 - val_loss: 7.3865e-05 - val_encoder_attr_loss: 3.5190e-06 - val_decoder_attr_loss: 7.3865e-05\n",
            "Epoch 25/40\n",
            "1000/1000 [==============================] - ETA: 0s - loss: 7.4130e-05 - encoder_attr_loss: 3.5219e-06 - decoder_attr_loss: 7.4130e-05\n",
            "Epoch 25: saving model to /content/drive/MyDrive/model.tf\n"
          ]
        },
        {
          "name": "stderr",
          "output_type": "stream",
          "text": [
            "WARNING:absl:Found untraced functions such as _jit_compiled_convolution_op, _jit_compiled_convolution_op, _jit_compiled_convolution_op, _jit_compiled_convolution_op, _jit_compiled_convolution_op while saving (showing 5 of 8). These functions will not be directly callable after loading.\n"
          ]
        },
        {
          "name": "stdout",
          "output_type": "stream",
          "text": [
            "\n",
            "Epoch 25: saving model to /content/drive/MyDrive/model_weights/model.weights\n",
            "\n",
            "Saved model epoch 24 at /content/drive/MyDrive/encoder.tf\n"
          ]
        },
        {
          "name": "stderr",
          "output_type": "stream",
          "text": [
            "WARNING:absl:Found untraced functions such as _jit_compiled_convolution_op, _jit_compiled_convolution_op, _jit_compiled_convolution_op, _jit_compiled_convolution_op, _jit_compiled_convolution_op while saving (showing 5 of 8). These functions will not be directly callable after loading.\n"
          ]
        },
        {
          "name": "stdout",
          "output_type": "stream",
          "text": [
            "\b\b\b\b\b\b\b\b\b\b\b\b\b\b\b\b\b\b\b\b\b\b\b\b\b\b\b\b\b\b\b\b\b\b\b\b\b\b\b\b\b\b\b\b\b\b\b\b\b\b\b\b\b\b\b\b\b\b\b\b\b\b\b\b\b\b\b\b\b\b\b\b\b\b\b\b\b\b\b\b\b\b\b\b\b\b\b\b\b\b\b\b\b\b\b\b\b\b\b\b\b\b\b\b\b\b\b\b\b\b\b\b\b\b\b\b\b\b\b\b\b\b\b\b\b\b\b\b\b\b\b\b\b\b\b\r1000/1000 [==============================] - 486s 486ms/step - loss: 7.4130e-05 - encoder_attr_loss: 3.5219e-06 - decoder_attr_loss: 7.4130e-05 - val_loss: 7.3860e-05 - val_encoder_attr_loss: 3.5186e-06 - val_decoder_attr_loss: 7.3860e-05\n",
            "Epoch 26/40\n",
            "1000/1000 [==============================] - ETA: 0s - loss: 7.4125e-05 - encoder_attr_loss: 3.5215e-06 - decoder_attr_loss: 7.4125e-05\n",
            "Epoch 26: saving model to /content/drive/MyDrive/model.tf\n"
          ]
        },
        {
          "name": "stderr",
          "output_type": "stream",
          "text": [
            "WARNING:absl:Found untraced functions such as _jit_compiled_convolution_op, _jit_compiled_convolution_op, _jit_compiled_convolution_op, _jit_compiled_convolution_op, _jit_compiled_convolution_op while saving (showing 5 of 8). These functions will not be directly callable after loading.\n"
          ]
        },
        {
          "name": "stdout",
          "output_type": "stream",
          "text": [
            "\n",
            "Epoch 26: saving model to /content/drive/MyDrive/model_weights/model.weights\n",
            "\n",
            "Saved model epoch 25 at /content/drive/MyDrive/encoder.tf\n"
          ]
        },
        {
          "name": "stderr",
          "output_type": "stream",
          "text": [
            "WARNING:absl:Found untraced functions such as _jit_compiled_convolution_op, _jit_compiled_convolution_op, _jit_compiled_convolution_op, _jit_compiled_convolution_op, _jit_compiled_convolution_op while saving (showing 5 of 8). These functions will not be directly callable after loading.\n"
          ]
        },
        {
          "name": "stdout",
          "output_type": "stream",
          "text": [
            "\b\b\b\b\b\b\b\b\b\b\b\b\b\b\b\b\b\b\b\b\b\b\b\b\b\b\b\b\b\b\b\b\b\b\b\b\b\b\b\b\b\b\b\b\b\b\b\b\b\b\b\b\b\b\b\b\b\b\b\b\b\b\b\b\b\b\b\b\b\b\b\b\b\b\b\b\b\b\b\b\b\b\b\b\b\b\b\b\b\b\b\b\b\b\b\b\b\b\b\b\b\b\b\b\b\b\b\b\b\b\b\b\b\b\b\b\b\b\b\b\b\b\b\b\b\b\b\b\b\b\b\b\b\b\b\r1000/1000 [==============================] - 523s 523ms/step - loss: 7.4125e-05 - encoder_attr_loss: 3.5215e-06 - decoder_attr_loss: 7.4125e-05 - val_loss: 7.3856e-05 - val_encoder_attr_loss: 3.5183e-06 - val_decoder_attr_loss: 7.3856e-05\n",
            "Epoch 27/40\n",
            "1000/1000 [==============================] - ETA: 0s - loss: 7.4121e-05 - encoder_attr_loss: 3.5211e-06 - decoder_attr_loss: 7.4121e-05\n",
            "Epoch 27: saving model to /content/drive/MyDrive/model.tf\n"
          ]
        },
        {
          "name": "stderr",
          "output_type": "stream",
          "text": [
            "WARNING:absl:Found untraced functions such as _jit_compiled_convolution_op, _jit_compiled_convolution_op, _jit_compiled_convolution_op, _jit_compiled_convolution_op, _jit_compiled_convolution_op while saving (showing 5 of 8). These functions will not be directly callable after loading.\n"
          ]
        },
        {
          "name": "stdout",
          "output_type": "stream",
          "text": [
            "\n",
            "Epoch 27: saving model to /content/drive/MyDrive/model_weights/model.weights\n",
            "\n",
            "Saved model epoch 26 at /content/drive/MyDrive/encoder.tf\n"
          ]
        },
        {
          "name": "stderr",
          "output_type": "stream",
          "text": [
            "WARNING:absl:Found untraced functions such as _jit_compiled_convolution_op, _jit_compiled_convolution_op, _jit_compiled_convolution_op, _jit_compiled_convolution_op, _jit_compiled_convolution_op while saving (showing 5 of 8). These functions will not be directly callable after loading.\n"
          ]
        },
        {
          "name": "stdout",
          "output_type": "stream",
          "text": [
            "\b\b\b\b\b\b\b\b\b\b\b\b\b\b\b\b\b\b\b\b\b\b\b\b\b\b\b\b\b\b\b\b\b\b\b\b\b\b\b\b\b\b\b\b\b\b\b\b\b\b\b\b\b\b\b\b\b\b\b\b\b\b\b\b\b\b\b\b\b\b\b\b\b\b\b\b\b\b\b\b\b\b\b\b\b\b\b\b\b\b\b\b\b\b\b\b\b\b\b\b\b\b\b\b\b\b\b\b\b\b\b\b\b\b\b\b\b\b\b\b\b\b\b\b\b\b\b\b\b\b\b\b\b\b\b\r1000/1000 [==============================] - 520s 520ms/step - loss: 7.4121e-05 - encoder_attr_loss: 3.5211e-06 - decoder_attr_loss: 7.4121e-05 - val_loss: 7.3852e-05 - val_encoder_attr_loss: 3.5179e-06 - val_decoder_attr_loss: 7.3852e-05\n",
            "Epoch 28/40\n",
            "1000/1000 [==============================] - ETA: 0s - loss: 7.4117e-05 - encoder_attr_loss: 3.5208e-06 - decoder_attr_loss: 7.4117e-05\n",
            "Epoch 28: saving model to /content/drive/MyDrive/model.tf\n"
          ]
        },
        {
          "name": "stderr",
          "output_type": "stream",
          "text": [
            "WARNING:absl:Found untraced functions such as _jit_compiled_convolution_op, _jit_compiled_convolution_op, _jit_compiled_convolution_op, _jit_compiled_convolution_op, _jit_compiled_convolution_op while saving (showing 5 of 8). These functions will not be directly callable after loading.\n"
          ]
        },
        {
          "name": "stdout",
          "output_type": "stream",
          "text": [
            "\n",
            "Epoch 28: saving model to /content/drive/MyDrive/model_weights/model.weights\n",
            "\n",
            "Saved model epoch 27 at /content/drive/MyDrive/encoder.tf\n"
          ]
        },
        {
          "name": "stderr",
          "output_type": "stream",
          "text": [
            "WARNING:absl:Found untraced functions such as _jit_compiled_convolution_op, _jit_compiled_convolution_op, _jit_compiled_convolution_op, _jit_compiled_convolution_op, _jit_compiled_convolution_op while saving (showing 5 of 8). These functions will not be directly callable after loading.\n"
          ]
        },
        {
          "name": "stdout",
          "output_type": "stream",
          "text": [
            "\b\b\b\b\b\b\b\b\b\b\b\b\b\b\b\b\b\b\b\b\b\b\b\b\b\b\b\b\b\b\b\b\b\b\b\b\b\b\b\b\b\b\b\b\b\b\b\b\b\b\b\b\b\b\b\b\b\b\b\b\b\b\b\b\b\b\b\b\b\b\b\b\b\b\b\b\b\b\b\b\b\b\b\b\b\b\b\b\b\b\b\b\b\b\b\b\b\b\b\b\b\b\b\b\b\b\b\b\b\b\b\b\b\b\b\b\b\b\b\b\b\b\b\b\b\b\b\b\b\b\b\b\b\b\b\r1000/1000 [==============================] - 475s 475ms/step - loss: 7.4117e-05 - encoder_attr_loss: 3.5208e-06 - decoder_attr_loss: 7.4117e-05 - val_loss: 7.3848e-05 - val_encoder_attr_loss: 3.5176e-06 - val_decoder_attr_loss: 7.3848e-05\n",
            "Epoch 29/40\n",
            "1000/1000 [==============================] - ETA: 0s - loss: 7.4114e-05 - encoder_attr_loss: 3.5205e-06 - decoder_attr_loss: 7.4114e-05\n",
            "Epoch 29: saving model to /content/drive/MyDrive/model.tf\n"
          ]
        },
        {
          "name": "stderr",
          "output_type": "stream",
          "text": [
            "WARNING:absl:Found untraced functions such as _jit_compiled_convolution_op, _jit_compiled_convolution_op, _jit_compiled_convolution_op, _jit_compiled_convolution_op, _jit_compiled_convolution_op while saving (showing 5 of 8). These functions will not be directly callable after loading.\n"
          ]
        },
        {
          "name": "stdout",
          "output_type": "stream",
          "text": [
            "\n",
            "Epoch 29: saving model to /content/drive/MyDrive/model_weights/model.weights\n",
            "\n",
            "Saved model epoch 28 at /content/drive/MyDrive/encoder.tf\n"
          ]
        },
        {
          "name": "stderr",
          "output_type": "stream",
          "text": [
            "WARNING:absl:Found untraced functions such as _jit_compiled_convolution_op, _jit_compiled_convolution_op, _jit_compiled_convolution_op, _jit_compiled_convolution_op, _jit_compiled_convolution_op while saving (showing 5 of 8). These functions will not be directly callable after loading.\n"
          ]
        },
        {
          "name": "stdout",
          "output_type": "stream",
          "text": [
            "\b\b\b\b\b\b\b\b\b\b\b\b\b\b\b\b\b\b\b\b\b\b\b\b\b\b\b\b\b\b\b\b\b\b\b\b\b\b\b\b\b\b\b\b\b\b\b\b\b\b\b\b\b\b\b\b\b\b\b\b\b\b\b\b\b\b\b\b\b\b\b\b\b\b\b\b\b\b\b\b\b\b\b\b\b\b\b\b\b\b\b\b\b\b\b\b\b\b\b\b\b\b\b\b\b\b\b\b\b\b\b\b\b\b\b\b\b\b\b\b\b\b\b\b\b\b\b\b\b\b\b\b\b\b\b\r1000/1000 [==============================] - 516s 516ms/step - loss: 7.4114e-05 - encoder_attr_loss: 3.5205e-06 - decoder_attr_loss: 7.4114e-05 - val_loss: 7.3845e-05 - val_encoder_attr_loss: 3.5173e-06 - val_decoder_attr_loss: 7.3845e-05\n",
            "Epoch 30/40\n",
            "1000/1000 [==============================] - ETA: 0s - loss: 7.4111e-05 - encoder_attr_loss: 3.5202e-06 - decoder_attr_loss: 7.4111e-05\n",
            "Epoch 30: saving model to /content/drive/MyDrive/model.tf\n"
          ]
        },
        {
          "name": "stderr",
          "output_type": "stream",
          "text": [
            "WARNING:absl:Found untraced functions such as _jit_compiled_convolution_op, _jit_compiled_convolution_op, _jit_compiled_convolution_op, _jit_compiled_convolution_op, _jit_compiled_convolution_op while saving (showing 5 of 8). These functions will not be directly callable after loading.\n"
          ]
        },
        {
          "name": "stdout",
          "output_type": "stream",
          "text": [
            "\n",
            "Epoch 30: saving model to /content/drive/MyDrive/model_weights/model.weights\n",
            "\n",
            "Saved model epoch 29 at /content/drive/MyDrive/encoder.tf\n"
          ]
        },
        {
          "name": "stderr",
          "output_type": "stream",
          "text": [
            "WARNING:absl:Found untraced functions such as _jit_compiled_convolution_op, _jit_compiled_convolution_op, _jit_compiled_convolution_op, _jit_compiled_convolution_op, _jit_compiled_convolution_op while saving (showing 5 of 8). These functions will not be directly callable after loading.\n"
          ]
        },
        {
          "name": "stdout",
          "output_type": "stream",
          "text": [
            "\b\b\b\b\b\b\b\b\b\b\b\b\b\b\b\b\b\b\b\b\b\b\b\b\b\b\b\b\b\b\b\b\b\b\b\b\b\b\b\b\b\b\b\b\b\b\b\b\b\b\b\b\b\b\b\b\b\b\b\b\b\b\b\b\b\b\b\b\b\b\b\b\b\b\b\b\b\b\b\b\b\b\b\b\b\b\b\b\b\b\b\b\b\b\b\b\b\b\b\b\b\b\b\b\b\b\b\b\b\b\b\b\b\b\b\b\b\b\b\b\b\b\b\b\b\b\b\b\b\b\b\b\b\b\b\r1000/1000 [==============================] - 518s 518ms/step - loss: 7.4111e-05 - encoder_attr_loss: 3.5202e-06 - decoder_attr_loss: 7.4111e-05 - val_loss: 7.3842e-05 - val_encoder_attr_loss: 3.5171e-06 - val_decoder_attr_loss: 7.3842e-05\n",
            "Epoch 31/40\n",
            "1000/1000 [==============================] - ETA: 0s - loss: 7.4108e-05 - encoder_attr_loss: 3.5200e-06 - decoder_attr_loss: 7.4108e-05\n",
            "Epoch 31: saving model to /content/drive/MyDrive/model.tf\n"
          ]
        },
        {
          "name": "stderr",
          "output_type": "stream",
          "text": [
            "WARNING:absl:Found untraced functions such as _jit_compiled_convolution_op, _jit_compiled_convolution_op, _jit_compiled_convolution_op, _jit_compiled_convolution_op, _jit_compiled_convolution_op while saving (showing 5 of 8). These functions will not be directly callable after loading.\n"
          ]
        },
        {
          "name": "stdout",
          "output_type": "stream",
          "text": [
            "\n",
            "Epoch 31: saving model to /content/drive/MyDrive/model_weights/model.weights\n",
            "\n",
            "Saved model epoch 30 at /content/drive/MyDrive/encoder.tf\n"
          ]
        },
        {
          "name": "stderr",
          "output_type": "stream",
          "text": [
            "WARNING:absl:Found untraced functions such as _jit_compiled_convolution_op, _jit_compiled_convolution_op, _jit_compiled_convolution_op, _jit_compiled_convolution_op, _jit_compiled_convolution_op while saving (showing 5 of 8). These functions will not be directly callable after loading.\n"
          ]
        },
        {
          "name": "stdout",
          "output_type": "stream",
          "text": [
            "\b\b\b\b\b\b\b\b\b\b\b\b\b\b\b\b\b\b\b\b\b\b\b\b\b\b\b\b\b\b\b\b\b\b\b\b\b\b\b\b\b\b\b\b\b\b\b\b\b\b\b\b\b\b\b\b\b\b\b\b\b\b\b\b\b\b\b\b\b\b\b\b\b\b\b\b\b\b\b\b\b\b\b\b\b\b\b\b\b\b\b\b\b\b\b\b\b\b\b\b\b\b\b\b\b\b\b\b\b\b\b\b\b\b\b\b\b\b\b\b\b\b\b\b\b\b\b\b\b\b\b\b\b\b\b\r1000/1000 [==============================] - 521s 521ms/step - loss: 7.4108e-05 - encoder_attr_loss: 3.5200e-06 - decoder_attr_loss: 7.4108e-05 - val_loss: 7.3839e-05 - val_encoder_attr_loss: 3.5168e-06 - val_decoder_attr_loss: 7.3839e-05\n",
            "Epoch 32/40\n",
            " 781/1000 [======================>.......] - ETA: 1:34 - loss: 7.4071e-05 - encoder_attr_loss: 3.5096e-06 - decoder_attr_loss: 7.4071e-05"
          ]
        }
      ],
      "source": [
        "import tensorflow.keras.layers as layers\n",
        "max_seq_length = 256\n",
        "\n",
        "batch_size = 128\n",
        "def train(ds, encoder, decoder, val=None, epochs=40):\n",
        "  input = layers.Input(shape=(max_seq_length, 512), name=\"model_input\")\n",
        "  encoder_output = encoder(input)\n",
        "  final = decoder(encoder_output)\n",
        "  model = tf.keras.Model(inputs=input, outputs=[encoder_output, final], name=\"full_encoder_decoder\")\n",
        "\n",
        "  checkpoint_filepath = '/content/drive/MyDrive/checkpoint'\n",
        "\n",
        "  model_early_stopping_callback = tf.keras.callbacks.EarlyStopping(monitor='val_loss', patience=3, verbose=1)\n",
        "\n",
        "  encoder_save_callback = SaveModelCallback(encoder, '/content/drive/MyDrive/encoder.tf')\n",
        "  # decoder_save_callback = SaveModelCallback(decoder, '/content/drive/MyDrive/decoder.tf')\n",
        "  cp_callback = tf.keras.callbacks.ModelCheckpoint(filepath='/content/drive/MyDrive/model.tf', save_weights_only=False, verbose=1)\n",
        "  cp_callback_weight = tf.keras.callbacks.ModelCheckpoint(filepath='/content/drive/MyDrive/model_weights/model.weights', save_weights_only=True, verbose=1)\n",
        "\n",
        "  callbacks = [\n",
        "      cp_callback,\n",
        "      cp_callback_weight,\n",
        "      model_early_stopping_callback,\n",
        "      encoder_save_callback,\n",
        "      # decoder_save_callback,\n",
        "    ]\n",
        "\n",
        "  model.compile(optimizer='sgd', loss='mse', loss_weights=[0, 1]) # Faster\n",
        "  # model.compile(optimizer='adam', loss='mse', loss_weights=[0, 1])\n",
        "  model.summary()\n",
        "  ds = ds.map(lambda x,y: (x, (tf.zeros(shape=(256,)), y)))\n",
        "  if val is None:\n",
        "    process = model.fit(ds.batch(batch_size), batch_size=batch_size, epochs=epochs, callbacks=callbacks)\n",
        "  else:\n",
        "    val = val.map(lambda x,y: (x, (tf.zeros(shape=(256,)), y)))\n",
        "    process = model.fit(ds.batch(batch_size), batch_size=batch_size, epochs=epochs, validation_data=val.batch(batch_size), callbacks=callbacks)\n",
        "  return model, process\n",
        "\n",
        "ds_window = 0\n",
        "ds_window_size = 128000\n",
        "ds_val_window_size = ds_window_size // 10\n",
        "print(\"Current:\", ds_window)\n",
        "print(\"Total\", len(train_ds) / ds_window_size)\n",
        "\n",
        "trained_model, process = train(train_ds.skip(ds_window * ds_window_size).take((ds_window + 1) * ds_window_size), encoder, decoder, dev_ds.skip(ds_window * ds_val_window_size).take((ds_window + 1) * ds_val_window_size))\n"
      ]
    },
    {
      "cell_type": "code",
      "execution_count": null,
      "metadata": {
        "colab": {
          "base_uri": "https://localhost:8080/",
          "height": 501
        },
        "id": "MUKZmxCx5QY-",
        "outputId": "aa04a4f3-fb96-4891-cdfc-4409030e72ea"
      },
      "outputs": [
        {
          "name": "stdout",
          "output_type": "stream",
          "text": [
            "loss\n",
            "val_loss\n"
          ]
        },
        {
          "data": {
            "image/png": "[encoded data removed]",
            "text/plain": [
              "<Figure size 640x480 with 1 Axes>"
            ]
          },
          "metadata": {},
          "output_type": "display_data"
        }
      ],
      "source": [
        "for x in process.history:\n",
        "  print(x)\n",
        "import json\n",
        "\n",
        "json.dump(process.history, open('/content/drive/MyDrive/training_history.json', mode=\"w\"))\n",
        "\n",
        "import matplotlib.pyplot as plt\n",
        "X = [i for i in range(len(process.history['loss']))]\n",
        "plt.plot(X, process.history['loss'], label=\"MSE Train\")\n",
        "plt.plot(X, process.history['val_loss'], label=\"MSE Val\")\n",
        "plt.legend()\n",
        "plt.xlabel(\"Epoch\")\n",
        "plt.ylabel(\"MSE Loss\")\n",
        "plt.show()"
      ]
    },
    {
      "cell_type": "code",
      "execution_count": 6,
      "metadata": {
        "id": "Cn91NB6gsD1x"
      },
      "outputs": [],
      "source": [
        "import tensorflow as tf\n",
        "# full_model = tf.keras.models.load_model('/content/drive/MyDrive/model.tf')\n",
        "encoder = tf.keras.models.load_model('/content/drive/MyDrive/encoder.tf')\n",
        "# decoder = tf.keras.models.load_model('/content/drive/MyDrive/decoder.tf')"
      ]
    },
    {
      "cell_type": "code",
      "execution_count": null,
      "metadata": {
        "id": "NmVvyuDP3uXM"
      },
      "outputs": [],
      "source": [
        "import numpy as np\n",
        "from math import ceil\n",
        "\n",
        "max_seq_length = 256\n",
        "\n",
        "def get_recipe_vector(steps):\n",
        "  try:\n",
        "    vector = embed(steps)\n",
        "  except:\n",
        "    print(f\"FAILED: {steps}\")\n",
        "    vector = tf.zeros(shape=(max_seq_length,512))\n",
        "  add_to_shape = max_seq_length - tf.shape(vector)[0]\n",
        "  vector = tf.concat([vector, tf.zeros(shape=(add_to_shape, 512))], axis=0)\n",
        "  return vector\n",
        "\n",
        "def save_dataset(recipe_list: list[str], encoder, full_model=None, initial_batch=0):\n",
        "  batch_size = 2048\n",
        "  batch_range = 100000\n",
        "  print(len(recipe_list))\n",
        "  print(ceil(len(recipe_list) / batch_size))\n",
        "\n",
        "  for batch in range(initial_batch, min(ceil(len(recipe_list) / batch_size), initial_batch + batch_range)):\n",
        "    repr = {}\n",
        "    current_recipe_batch = recipe_list[batch * batch_size:(batch + 1) * batch_size]\n",
        "\n",
        "    print(f\"Start {batch}\")\n",
        "    print((batch*batch_size, batch_size * (batch + 1)))\n",
        "    print(len(current_recipe_batch))\n",
        "\n",
        "    for recipe in current_recipe_batch:\n",
        "      steps = new_recipe_json[recipe][\"steps\"]\n",
        "      vector = get_recipe_vector(steps)\n",
        "      encoded = encoder(tf.reshape(vector, (1, 256, 512)))\n",
        "      if full_model:\n",
        "        encoded2 = full_model(tf.reshape(vector, (1, 256, 512)))\n",
        "        print(all(encoded2[0][0] == encoded[0][0]))\n",
        "      if not isinstance(recipe, str):\n",
        "        continue\n",
        "      repr[recipe] = np.array(encoded[0][0])\n",
        "    print(f\"End {batch}\")\n",
        "\n",
        "    np.savez_compressed(f\"/content/drive/MyDrive/vector_repr_{batch}.json\", **repr)\n",
        "\n",
        "save_dataset(train + val + test, encoder, initial_batch=0)"
      ]
    },
    {
      "cell_type": "code",
      "execution_count": null,
      "metadata": {
        "id": "6B40Y05v9nrU"
      },
      "outputs": [],
      "source": [
        "files = \" \".join([f\"/content/drive/MyDrive/vector_repr_{i}.json.npz\" for i in range(114)])\n",
        "!zip -r /content/drive/MyDrive/foodcom.sematic.zip $files"
      ]
    }
  ],
  "metadata": {
    "accelerator": "GPU",
    "colab": {
      "provenance": []
    },
    "kernelspec": {
      "display_name": "Python 3",
      "name": "python3"
    },
    "language_info": {
      "name": "python"
    }
  },
  "nbformat": 4,
  "nbformat_minor": 0
}