{
  "nbformat": 4,
  "nbformat_minor": 0,
  "metadata": {
    "colab": {
      "provenance": [],
      "collapsed_sections": [
        "kJYlVFcp90BW",
        "8Nw4z0-v926O",
        "GgSHtYJZ_jxu",
        "xUz8jKnJ_eLd"
      ]
    },
    "kernelspec": {
      "name": "python3",
      "display_name": "Python 3"
    },
    "language_info": {
      "name": "python"
    }
  },
  "cells": [
    {
      "cell_type": "markdown",
      "source": [
        "# Datasets"
      ],
      "metadata": {
        "id": "Dd0AT7MU9wzQ"
      }
    },
    {
      "cell_type": "markdown",
      "source": [
        "## Recipe Net"
      ],
      "metadata": {
        "id": "kJYlVFcp90BW"
      }
    },
    {
      "cell_type": "code",
      "source": [
        "!git clone https://github.com/schmidtdominik/RecipeNet.git"
      ],
      "metadata": {
        "id": "BqO7X-He4GL1"
      },
      "execution_count": null,
      "outputs": []
    },
    {
      "cell_type": "code",
      "source": [
        "!du -m \"/content/RecipeNet/exported from simplified-recipes-1M.npz/ingredients.csv\"\n",
        "!du -m \"/content/RecipeNet/exported from simplified-recipes-1M.npz/recipes.csv\"\n",
        "!du -m \"/content/RecipeNet/simple ingredient lists/all-ingredients-and-counts.txt\""
      ],
      "metadata": {
        "id": "ZyshlP4P3u-g"
      },
      "execution_count": null,
      "outputs": []
    },
    {
      "cell_type": "markdown",
      "source": [
        "## Food.com"
      ],
      "metadata": {
        "id": "8Nw4z0-v926O"
      }
    },
    {
      "cell_type": "code",
      "source": [
        "!pip install kaggle"
      ],
      "metadata": {
        "id": "N62cGmXp4nbM"
      },
      "execution_count": null,
      "outputs": []
    },
    {
      "cell_type": "code",
      "source": [
        "# Copy kaggle.json provided by kaggle to colab. Must have a kaggle account and request your API key.\n",
        "!mkdir ~/.kaggle/\n",
        "!mv kaggle.json ~/.kaggle/kaggle.json"
      ],
      "metadata": {
        "id": "Oa1ouSH58t0u"
      },
      "execution_count": null,
      "outputs": []
    },
    {
      "cell_type": "code",
      "source": [
        "import kaggle\n",
        "kaggle.api.authenticate()\n",
        "kaggle.api.dataset_download_files('shuyangli94/food-com-recipes-and-user-interactions', path='./', unzip=False)"
      ],
      "metadata": {
        "id": "3Y-XGSBo8ogL"
      },
      "execution_count": null,
      "outputs": []
    },
    {
      "cell_type": "code",
      "source": [
        "!du -m \"/content/food-com-recipes-and-user-interactions.zip\""
      ],
      "metadata": {
        "id": "WjvosNcm9CDs"
      },
      "execution_count": null,
      "outputs": []
    },
    {
      "cell_type": "markdown",
      "source": [
        "## RecipeQA\n",
        "\n",
        "Go to https://hucvl.github.io/recipeqa/"
      ],
      "metadata": {
        "id": "41--z5D9-_PO"
      }
    },
    {
      "cell_type": "markdown",
      "source": [
        "## RecipeNLG\n",
        "\n",
        "Go to https://recipenlg.cs.put.poznan.pl/dataset"
      ],
      "metadata": {
        "id": "u9xsTRn2_Hsr"
      }
    },
    {
      "cell_type": "markdown",
      "source": [
        "# Preprocess\n",
        "\n"
      ],
      "metadata": {
        "id": "6Wx0Wk-J_Zxm"
      }
    },
    {
      "cell_type": "markdown",
      "source": [
        "## Recipe Net"
      ],
      "metadata": {
        "id": "GgSHtYJZ_jxu"
      }
    },
    {
      "cell_type": "code",
      "source": [
        "recipe_net_ingredients = \"/content/RecipeNet/exported from simplified-recipes-1M.npz/ingredients.csv\"\n",
        "recipe_net_recipes = \"/content/RecipeNet/exported from simplified-recipes-1M.npz/recipes.csv\"\n",
        "recipe_net_ingredient_count = \"/content/RecipeNet/simple ingredient lists/all-ingredients-and-counts.txt\""
      ],
      "metadata": {
        "id": "nkSO1srV_pW5"
      },
      "execution_count": null,
      "outputs": []
    },
    {
      "cell_type": "code",
      "source": [
        "def print_first_lines(path, n = 10):\n",
        "  with open(path) as file:\n",
        "    for _ in range(n):\n",
        "      print(file.readline())\n",
        "\n",
        "print_first_lines(recipe_net_ingredients)\n",
        "print_first_lines(recipe_net_recipes)\n",
        "print_first_lines(recipe_net_ingredient_count)\n",
        "\n"
      ],
      "metadata": {
        "id": "upEClp2k_-eR"
      },
      "execution_count": null,
      "outputs": []
    },
    {
      "cell_type": "markdown",
      "source": [
        "## Food.com"
      ],
      "metadata": {
        "id": "xUz8jKnJ_eLd"
      }
    },
    {
      "cell_type": "code",
      "source": [
        "!unzip food-com-recipes-and-user-interactions.zip -d food-com-recipes-and-user-interactions"
      ],
      "metadata": {
        "id": "myWSQRxv_dbf"
      },
      "execution_count": null,
      "outputs": []
    },
    {
      "cell_type": "code",
      "source": [
        "import pandas as pd\n",
        "\n",
        "pp_recipe_path = \"/content/food-com-recipes-and-user-interactions/PP_recipes.csv\"\n",
        "raw_recipe_path = \"/content/food-com-recipes-and-user-interactions/RAW_recipes.csv\"\n",
        "\n",
        "pp_recipe = pd.read_csv(pp_recipe_path)\n",
        "raw_recipe = pd.read_csv(raw_recipe_path)"
      ],
      "metadata": {
        "id": "xl1gUm3tCegg"
      },
      "execution_count": null,
      "outputs": []
    },
    {
      "cell_type": "code",
      "source": [
        "pp_recipe.head()"
      ],
      "metadata": {
        "id": "SWAQr0JtCwoa"
      },
      "execution_count": null,
      "outputs": []
    },
    {
      "cell_type": "code",
      "source": [
        "raw_recipe.head()"
      ],
      "metadata": {
        "id": "tMvbTUPUDG7g"
      },
      "execution_count": null,
      "outputs": []
    },
    {
      "cell_type": "code",
      "source": [
        "import json\n",
        "\n",
        "v = raw_recipe[\"ingredients\"][0]\n",
        "ingredient_list = eval(v)\n",
        "print(ingredient_list)"
      ],
      "metadata": {
        "id": "8uhSqO67DMBj"
      },
      "execution_count": null,
      "outputs": []
    },
    {
      "cell_type": "code",
      "source": [],
      "metadata": {
        "id": "vvHpY5u2D59I"
      },
      "execution_count": null,
      "outputs": []
    }
  ]
}