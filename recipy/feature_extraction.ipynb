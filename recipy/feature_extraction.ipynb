{
 "cells": [
  {
   "cell_type": "code",
   "execution_count": 7,
   "metadata": {},
   "outputs": [],
   "source": [
    "import engine as ng\n",
    "from pathlib import Path\n",
    "import pandas as pd\n",
    "import json\n",
    "from typing import List, Callable, Dict, Tuple\n",
    "import networkx as nx\n",
    "from matplotlib import pyplot as plt\n",
    "from engine.graph_io import import_graph\n",
    "import numpy as np\n",
    "from sklearn.feature_extraction.text import TfidfVectorizer\n",
    "\n",
    "data_path = Path(\"data\")\n",
    "\n",
    "def get_recipe_tf_idf_vectors(json_graph: Dict) -> Tuple[Dict[str, List[int]], np.matrix, TfidfVectorizer]:\n",
    "    \"\"\"\n",
    "    Given a graph in json format, returns a dictionary with the vector representation for all recipes.\n",
    "    \"\"\"\n",
    "    def extract_recipe_info(recipe: Dict) -> List[str]:\n",
    "        return [x[\"nombre\"] for x in recipe[\"ingredientes\"]]\n",
    "    \n",
    "    estimator = TfidfVectorizer()\n",
    "    recipes = [\" \".join(extract_recipe_info(recipe)) for _, recipe in json_graph.items()]\n",
    "    tfidf = estimator.fit_transform(recipes)\n",
    "    return {x: tfidf[i] for i, x in enumerate(json_graph)}, tfidf, estimator\n",
    "\n",
    "def get_vector_representation(estimator: TfidfVectorizer, query: str):\n",
    "    return estimator.transform([query])\n"
   ]
  },
  {
   "cell_type": "code",
   "execution_count": 3,
   "metadata": {},
   "outputs": [],
   "source": [
    "# json_path = data_path / \"graphs\" / \"foodcom\" / \"food.com.recipe_normalized.json\"\n",
    "json_path = data_path / \"graphs\" / \"recipenlg\" / \"recipenlg.recipe.json\"\n",
    "recipe_json = json.loads(json_path.read_text())"
   ]
  },
  {
   "cell_type": "code",
   "execution_count": 8,
   "metadata": {},
   "outputs": [],
   "source": [
    "tfidf_dict, tfidf, vectorizer = get_recipe_tf_idf_vectors(recipe_json)"
   ]
  },
  {
   "cell_type": "code",
   "execution_count": 5,
   "metadata": {},
   "outputs": [
    {
     "data": {
      "text/plain": [
       "<1x27266 sparse matrix of type '<class 'numpy.float64'>'\n",
       "\twith 11 stored elements in Compressed Sparse Row format>"
      ]
     },
     "execution_count": 5,
     "metadata": {},
     "output_type": "execute_result"
    }
   ],
   "source": [
    "tfidf_dict[next(iter(tfidf_dict))]"
   ]
  },
  {
   "cell_type": "code",
   "execution_count": 6,
   "metadata": {},
   "outputs": [
    {
     "data": {
      "text/plain": [
       "(1312871, 27266)"
      ]
     },
     "execution_count": 6,
     "metadata": {},
     "output_type": "execute_result"
    }
   ],
   "source": [
    "tfidf.shape"
   ]
  },
  {
   "cell_type": "code",
   "execution_count": 15,
   "metadata": {},
   "outputs": [
    {
     "name": "stdout",
     "output_type": "stream",
     "text": [
      "[0. 0. 0. ... 0. 0. 0.]\n"
     ]
    }
   ],
   "source": [
    "v = get_vector_representation(vectorizer, \"white sugar, pineapple and rum\")"
   ]
  },
  {
   "cell_type": "code",
   "execution_count": 18,
   "metadata": {},
   "outputs": [],
   "source": [
    "from engine.ranking import tfidf_ranking\n",
    "\n",
    "rank = tfidf_ranking(vectorizer, tfidf, list(tfidf_dict), \"white sugar, lemon and rum\", 10)"
   ]
  },
  {
   "cell_type": "code",
   "execution_count": 19,
   "metadata": {},
   "outputs": [
    {
     "name": "stdout",
     "output_type": "stream",
     "text": [
      "Fancy Holiday Cookies\n",
      "Caipirinha Recipe\n",
      "Strawberry Campari Sorbet\n",
      "Broad Bean And Parmesan Dip\n",
      "Grandma Merritt'S Famous Lemon Pound Cake\n",
      "Roasted Sesame Crackers Made With Thin Toasted Barley Flour\n",
      "Milk Punch\n",
      "Rattlesnake Annie'S Hot Pepper Jelly\n",
      "Steak Or Chicken Marinade\n",
      "Toasty Macaroons\n"
     ]
    }
   ],
   "source": [
    "for x in rank:\n",
    "    print(x)"
   ]
  }
 ],
 "metadata": {
  "kernelspec": {
   "display_name": "Python 3",
   "language": "python",
   "name": "python3"
  },
  "language_info": {
   "codemirror_mode": {
    "name": "ipython",
    "version": 3
   },
   "file_extension": ".py",
   "mimetype": "text/x-python",
   "name": "python",
   "nbconvert_exporter": "python",
   "pygments_lexer": "ipython3",
   "version": "3.11.2"
  },
  "orig_nbformat": 4
 },
 "nbformat": 4,
 "nbformat_minor": 2
}
