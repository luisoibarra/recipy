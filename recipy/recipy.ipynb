{
 "cells": [
  {
   "cell_type": "code",
   "execution_count": 1,
   "metadata": {},
   "outputs": [],
   "source": [
    "import engine as ng\n",
    "from pathlib import Path\n",
    "import pandas as pd\n",
    "import json\n",
    "from typing import List, Callable, Dict, Tuple\n",
    "import networkx as nx\n",
    "import numpy as np\n",
    "\n",
    "data_path = Path(\"data\")\n",
    "raw_data_path = Path(\"raw_data\")"
   ]
  },
  {
   "cell_type": "code",
   "execution_count": 2,
   "metadata": {},
   "outputs": [],
   "source": [
    "def get_ingredient_cutoff(bipartite_graph: nx.Graph, ingredient_cutoff_percentage = 0.9) -> List[str]:\n",
    "    \"\"\"\n",
    "    Returns the ingredients that represents the `ingredient_cutoff_percentage` of the total, sorted by occurrence\n",
    "    \"\"\"\n",
    "    ingredient_with_occurrence = [(len(list(bipartite_graph.neighbors(ingredient))) , ingredient) for ingredient in bipartite_graph.nodes if bipartite_graph.nodes[ingredient][\"type\"] == \"ingredient\"]\n",
    "    ingredient_with_occurrence = sorted(ingredient_with_occurrence, reverse=True)\n",
    "\n",
    "    # Extract the ingredient names and occurrence values\n",
    "    occurrences = [x[0] for x in ingredient_with_occurrence]\n",
    "    ingredients = [x[1] for x in ingredient_with_occurrence]\n",
    "    cumulative_occurrences = np.cumsum(occurrences)\n",
    "\n",
    "    cutoff_index = -1\n",
    "    total = cumulative_occurrences[-1]\n",
    "    for i, cumsum in enumerate(cumulative_occurrences):\n",
    "        if cumsum / total >= ingredient_cutoff_percentage:\n",
    "            cutoff_index = i\n",
    "            break\n",
    "    \n",
    "    return ingredients[:cutoff_index]\n"
   ]
  },
  {
   "attachments": {},
   "cell_type": "markdown",
   "metadata": {},
   "source": [
    "# Food.com"
   ]
  },
  {
   "cell_type": "code",
   "execution_count": 3,
   "metadata": {},
   "outputs": [],
   "source": [
    "original_data_base_path = raw_data_path / \"foodcom\" / \"archive\"\n",
    "raw_recipe_path = original_data_base_path / \"RAW_recipes.csv\"\n",
    "raw_interactions_path = original_data_base_path / \"RAW_interactions.csv\""
   ]
  },
  {
   "cell_type": "code",
   "execution_count": 4,
   "metadata": {},
   "outputs": [
    {
     "data": {
      "text/html": [
       "<div>\n",
       "<style scoped>\n",
       "    .dataframe tbody tr th:only-of-type {\n",
       "        vertical-align: middle;\n",
       "    }\n",
       "\n",
       "    .dataframe tbody tr th {\n",
       "        vertical-align: top;\n",
       "    }\n",
       "\n",
       "    .dataframe thead th {\n",
       "        text-align: right;\n",
       "    }\n",
       "</style>\n",
       "<table border=\"1\" class=\"dataframe\">\n",
       "  <thead>\n",
       "    <tr style=\"text-align: right;\">\n",
       "      <th></th>\n",
       "      <th>name</th>\n",
       "      <th>id</th>\n",
       "      <th>minutes</th>\n",
       "      <th>contributor_id</th>\n",
       "      <th>submitted</th>\n",
       "      <th>tags</th>\n",
       "      <th>nutrition</th>\n",
       "      <th>n_steps</th>\n",
       "      <th>steps</th>\n",
       "      <th>description</th>\n",
       "      <th>ingredients</th>\n",
       "      <th>n_ingredients</th>\n",
       "    </tr>\n",
       "  </thead>\n",
       "  <tbody>\n",
       "    <tr>\n",
       "      <th>0</th>\n",
       "      <td>arriba   baked winter squash mexican style</td>\n",
       "      <td>137739</td>\n",
       "      <td>55</td>\n",
       "      <td>47892</td>\n",
       "      <td>2005-09-16</td>\n",
       "      <td>['60-minutes-or-less', 'time-to-make', 'course...</td>\n",
       "      <td>[51.5, 0.0, 13.0, 0.0, 2.0, 0.0, 4.0]</td>\n",
       "      <td>11</td>\n",
       "      <td>['make a choice and proceed with recipe', 'dep...</td>\n",
       "      <td>autumn is my favorite time of year to cook! th...</td>\n",
       "      <td>['winter squash', 'mexican seasoning', 'mixed ...</td>\n",
       "      <td>7</td>\n",
       "    </tr>\n",
       "    <tr>\n",
       "      <th>1</th>\n",
       "      <td>a bit different  breakfast pizza</td>\n",
       "      <td>31490</td>\n",
       "      <td>30</td>\n",
       "      <td>26278</td>\n",
       "      <td>2002-06-17</td>\n",
       "      <td>['30-minutes-or-less', 'time-to-make', 'course...</td>\n",
       "      <td>[173.4, 18.0, 0.0, 17.0, 22.0, 35.0, 1.0]</td>\n",
       "      <td>9</td>\n",
       "      <td>['preheat oven to 425 degrees f', 'press dough...</td>\n",
       "      <td>this recipe calls for the crust to be prebaked...</td>\n",
       "      <td>['prepared pizza crust', 'sausage patty', 'egg...</td>\n",
       "      <td>6</td>\n",
       "    </tr>\n",
       "    <tr>\n",
       "      <th>2</th>\n",
       "      <td>all in the kitchen  chili</td>\n",
       "      <td>112140</td>\n",
       "      <td>130</td>\n",
       "      <td>196586</td>\n",
       "      <td>2005-02-25</td>\n",
       "      <td>['time-to-make', 'course', 'preparation', 'mai...</td>\n",
       "      <td>[269.8, 22.0, 32.0, 48.0, 39.0, 27.0, 5.0]</td>\n",
       "      <td>6</td>\n",
       "      <td>['brown ground beef in large pot', 'add choppe...</td>\n",
       "      <td>this modified version of 'mom's' chili was a h...</td>\n",
       "      <td>['ground beef', 'yellow onions', 'diced tomato...</td>\n",
       "      <td>13</td>\n",
       "    </tr>\n",
       "    <tr>\n",
       "      <th>3</th>\n",
       "      <td>alouette  potatoes</td>\n",
       "      <td>59389</td>\n",
       "      <td>45</td>\n",
       "      <td>68585</td>\n",
       "      <td>2003-04-14</td>\n",
       "      <td>['60-minutes-or-less', 'time-to-make', 'course...</td>\n",
       "      <td>[368.1, 17.0, 10.0, 2.0, 14.0, 8.0, 20.0]</td>\n",
       "      <td>11</td>\n",
       "      <td>['place potatoes in a large pot of lightly sal...</td>\n",
       "      <td>this is a super easy, great tasting, make ahea...</td>\n",
       "      <td>['spreadable cheese with garlic and herbs', 'n...</td>\n",
       "      <td>11</td>\n",
       "    </tr>\n",
       "    <tr>\n",
       "      <th>4</th>\n",
       "      <td>amish  tomato ketchup  for canning</td>\n",
       "      <td>44061</td>\n",
       "      <td>190</td>\n",
       "      <td>41706</td>\n",
       "      <td>2002-10-25</td>\n",
       "      <td>['weeknight', 'time-to-make', 'course', 'main-...</td>\n",
       "      <td>[352.9, 1.0, 337.0, 23.0, 3.0, 0.0, 28.0]</td>\n",
       "      <td>5</td>\n",
       "      <td>['mix all ingredients&amp; boil for 2 1 / 2 hours ...</td>\n",
       "      <td>my dh's amish mother raised him on this recipe...</td>\n",
       "      <td>['tomato juice', 'apple cider vinegar', 'sugar...</td>\n",
       "      <td>8</td>\n",
       "    </tr>\n",
       "  </tbody>\n",
       "</table>\n",
       "</div>"
      ],
      "text/plain": [
       "                                         name      id  minutes   \n",
       "0  arriba   baked winter squash mexican style  137739       55  \\\n",
       "1            a bit different  breakfast pizza   31490       30   \n",
       "2                   all in the kitchen  chili  112140      130   \n",
       "3                          alouette  potatoes   59389       45   \n",
       "4          amish  tomato ketchup  for canning   44061      190   \n",
       "\n",
       "   contributor_id   submitted   \n",
       "0           47892  2005-09-16  \\\n",
       "1           26278  2002-06-17   \n",
       "2          196586  2005-02-25   \n",
       "3           68585  2003-04-14   \n",
       "4           41706  2002-10-25   \n",
       "\n",
       "                                                tags   \n",
       "0  ['60-minutes-or-less', 'time-to-make', 'course...  \\\n",
       "1  ['30-minutes-or-less', 'time-to-make', 'course...   \n",
       "2  ['time-to-make', 'course', 'preparation', 'mai...   \n",
       "3  ['60-minutes-or-less', 'time-to-make', 'course...   \n",
       "4  ['weeknight', 'time-to-make', 'course', 'main-...   \n",
       "\n",
       "                                    nutrition  n_steps   \n",
       "0       [51.5, 0.0, 13.0, 0.0, 2.0, 0.0, 4.0]       11  \\\n",
       "1   [173.4, 18.0, 0.0, 17.0, 22.0, 35.0, 1.0]        9   \n",
       "2  [269.8, 22.0, 32.0, 48.0, 39.0, 27.0, 5.0]        6   \n",
       "3   [368.1, 17.0, 10.0, 2.0, 14.0, 8.0, 20.0]       11   \n",
       "4   [352.9, 1.0, 337.0, 23.0, 3.0, 0.0, 28.0]        5   \n",
       "\n",
       "                                               steps   \n",
       "0  ['make a choice and proceed with recipe', 'dep...  \\\n",
       "1  ['preheat oven to 425 degrees f', 'press dough...   \n",
       "2  ['brown ground beef in large pot', 'add choppe...   \n",
       "3  ['place potatoes in a large pot of lightly sal...   \n",
       "4  ['mix all ingredients& boil for 2 1 / 2 hours ...   \n",
       "\n",
       "                                         description   \n",
       "0  autumn is my favorite time of year to cook! th...  \\\n",
       "1  this recipe calls for the crust to be prebaked...   \n",
       "2  this modified version of 'mom's' chili was a h...   \n",
       "3  this is a super easy, great tasting, make ahea...   \n",
       "4  my dh's amish mother raised him on this recipe...   \n",
       "\n",
       "                                         ingredients  n_ingredients  \n",
       "0  ['winter squash', 'mexican seasoning', 'mixed ...              7  \n",
       "1  ['prepared pizza crust', 'sausage patty', 'egg...              6  \n",
       "2  ['ground beef', 'yellow onions', 'diced tomato...             13  \n",
       "3  ['spreadable cheese with garlic and herbs', 'n...             11  \n",
       "4  ['tomato juice', 'apple cider vinegar', 'sugar...              8  "
      ]
     },
     "execution_count": 4,
     "metadata": {},
     "output_type": "execute_result"
    }
   ],
   "source": [
    "raw_recipe = pd.read_csv(raw_recipe_path)\n",
    "raw_recipe.head()"
   ]
  },
  {
   "cell_type": "code",
   "execution_count": 7,
   "metadata": {},
   "outputs": [
    {
     "name": "stdout",
     "output_type": "stream",
     "text": [
      "231637\n"
     ]
    }
   ],
   "source": [
    "print(len(raw_recipe))"
   ]
  },
  {
   "cell_type": "code",
   "execution_count": 5,
   "metadata": {},
   "outputs": [
    {
     "data": {
      "text/html": [
       "<div>\n",
       "<style scoped>\n",
       "    .dataframe tbody tr th:only-of-type {\n",
       "        vertical-align: middle;\n",
       "    }\n",
       "\n",
       "    .dataframe tbody tr th {\n",
       "        vertical-align: top;\n",
       "    }\n",
       "\n",
       "    .dataframe thead th {\n",
       "        text-align: right;\n",
       "    }\n",
       "</style>\n",
       "<table border=\"1\" class=\"dataframe\">\n",
       "  <thead>\n",
       "    <tr style=\"text-align: right;\">\n",
       "      <th></th>\n",
       "      <th>user_id</th>\n",
       "      <th>recipe_id</th>\n",
       "      <th>date</th>\n",
       "      <th>rating</th>\n",
       "      <th>review</th>\n",
       "    </tr>\n",
       "  </thead>\n",
       "  <tbody>\n",
       "    <tr>\n",
       "      <th>0</th>\n",
       "      <td>38094</td>\n",
       "      <td>40893</td>\n",
       "      <td>2003-02-17</td>\n",
       "      <td>4</td>\n",
       "      <td>Great with a salad. Cooked on top of stove for...</td>\n",
       "    </tr>\n",
       "    <tr>\n",
       "      <th>1</th>\n",
       "      <td>1293707</td>\n",
       "      <td>40893</td>\n",
       "      <td>2011-12-21</td>\n",
       "      <td>5</td>\n",
       "      <td>So simple, so delicious! Great for chilly fall...</td>\n",
       "    </tr>\n",
       "    <tr>\n",
       "      <th>2</th>\n",
       "      <td>8937</td>\n",
       "      <td>44394</td>\n",
       "      <td>2002-12-01</td>\n",
       "      <td>4</td>\n",
       "      <td>This worked very well and is EASY.  I used not...</td>\n",
       "    </tr>\n",
       "    <tr>\n",
       "      <th>3</th>\n",
       "      <td>126440</td>\n",
       "      <td>85009</td>\n",
       "      <td>2010-02-27</td>\n",
       "      <td>5</td>\n",
       "      <td>I made the Mexican topping and took it to bunk...</td>\n",
       "    </tr>\n",
       "    <tr>\n",
       "      <th>4</th>\n",
       "      <td>57222</td>\n",
       "      <td>85009</td>\n",
       "      <td>2011-10-01</td>\n",
       "      <td>5</td>\n",
       "      <td>Made the cheddar bacon topping, adding a sprin...</td>\n",
       "    </tr>\n",
       "  </tbody>\n",
       "</table>\n",
       "</div>"
      ],
      "text/plain": [
       "   user_id  recipe_id        date  rating   \n",
       "0    38094      40893  2003-02-17       4  \\\n",
       "1  1293707      40893  2011-12-21       5   \n",
       "2     8937      44394  2002-12-01       4   \n",
       "3   126440      85009  2010-02-27       5   \n",
       "4    57222      85009  2011-10-01       5   \n",
       "\n",
       "                                              review  \n",
       "0  Great with a salad. Cooked on top of stove for...  \n",
       "1  So simple, so delicious! Great for chilly fall...  \n",
       "2  This worked very well and is EASY.  I used not...  \n",
       "3  I made the Mexican topping and took it to bunk...  \n",
       "4  Made the cheddar bacon topping, adding a sprin...  "
      ]
     },
     "execution_count": 5,
     "metadata": {},
     "output_type": "execute_result"
    }
   ],
   "source": [
    "raw_interactions = pd.read_csv(raw_interactions_path)\n",
    "raw_interactions.head()"
   ]
  },
  {
   "cell_type": "code",
   "execution_count": 6,
   "metadata": {},
   "outputs": [
    {
     "name": "stdout",
     "output_type": "stream",
     "text": [
      "1132367\n"
     ]
    }
   ],
   "source": [
    "print(len(raw_interactions))"
   ]
  },
  {
   "cell_type": "code",
   "execution_count": 7,
   "metadata": {},
   "outputs": [],
   "source": [
    "\n",
    "def save_foodcom_json(raw_recipe: pd.DataFrame, path: Path):\n",
    "    info_json = {}\n",
    "\n",
    "    for i, row in raw_recipe[[\"name\", \"ingredients\", \"steps\"]].iterrows():\n",
    "        recipe = row[\"name\"]\n",
    "        ingredients = eval(row[\"ingredients\"])\n",
    "        instructions = eval(row[\"steps\"])\n",
    "        info_json[recipe] = {\n",
    "            \"nombre\": recipe,\n",
    "            \"ingredientes\": [{\"nombre\": ingredient, } for ingredient in ingredients],\n",
    "            \"instrucciones\": [ {\"orden\": i, \"instruccion\": instruction, } for i, instruction in enumerate(instructions)],\n",
    "        }\n",
    "\n",
    "    json.dump(info_json, path.open(\"+w\"))\n",
    "\n",
    "foodcom_json_path = data_path / \"graphs\" / \"foodcom\" / \"food.com.recipe.json\"\n",
    "save_foodcom_json(raw_recipe, foodcom_json_path)"
   ]
  },
  {
   "cell_type": "code",
   "execution_count": 8,
   "metadata": {},
   "outputs": [],
   "source": [
    "from engine.processors import extract_ingredients_with_modifiers_nltk_grammar as normalize_ingredient\n",
    "\n",
    "def process_foodcom_json(foodcom_recipes_json, path: Path, ingredient_normalizer: Callable[[str], List[Tuple[str,str]]]):\n",
    "    new_foodcom_recipes = { }\n",
    "    for recipe, info in foodcom_recipes_json.items():\n",
    "        new_foodcom_recipes[recipe] = {\n",
    "            \"nombre\": recipe,\n",
    "            \"ingredientes\": [ \n",
    "                {\n",
    "                    \"nombre\": new_ingredient, \n",
    "                    \"modificador\": modifier\n",
    "                } for ingredient in info[\"ingredientes\"]\n",
    "                    for new_ingredient, modifier in ingredient_normalizer(ingredient[\"nombre\"])\n",
    "            ],\n",
    "            \"instrucciones\": info[\"instrucciones\"],\n",
    "        }\n",
    "    json.dump(new_foodcom_recipes, path.open(mode=\"+w\"))\n",
    "\n",
    "foodcom_recipes_norm_path = data_path / \"graphs\" / \"foodcom\" / \"food.com.recipe_normalized.json\"\n",
    "foodcom_recipes_json = json.load(foodcom_json_path.open())\n",
    "process_foodcom_json(foodcom_recipes_json, foodcom_recipes_norm_path, normalize_ingredient )"
   ]
  },
  {
   "cell_type": "code",
   "execution_count": 3,
   "metadata": {},
   "outputs": [],
   "source": [
    "foodcom_recipes_norm_path = data_path / \"graphs\" / \"foodcom\" / \"food.com.recipe_normalized.json\"\n",
    "foodcom_recipes_json = json.load(foodcom_recipes_norm_path.open())"
   ]
  },
  {
   "cell_type": "code",
   "execution_count": 4,
   "metadata": {},
   "outputs": [],
   "source": [
    "from engine.graph_io import export_graph\n",
    "from engine.graph_construction import build_ingredient_graph, build_ingredient_recipe_graph, build_recipe_graph\n",
    "\n",
    "graph_base_path = data_path / \"graphs\" / \"foodcom\"\n",
    "\n",
    "# Works 30 seconds\n",
    "G8 = build_ingredient_recipe_graph(foodcom_recipes_json)\n",
    "export_graph(G8, graph_base_path / \"bipartite_recipe_ingredient.graphml\")\n",
    "\n",
    "# Works 17-20 minutes\n",
    "# G7 = build_ingredient_graph(foodcom_recipes_json)\n",
    "# nx.write_graphml(G7, graph_base_path / \"ingredient_node_weighted.graphml\")\n",
    "\n",
    "# TOO EXPENSIVE\n",
    "# G6 = build_recipe_graph(foodcom_recipes_json)\n",
    "# nx.write_graphml(G6, graph_base_path / f\"recipe_node_weighted.graphml\")\n"
   ]
  },
  {
   "cell_type": "code",
   "execution_count": 4,
   "metadata": {},
   "outputs": [],
   "source": [
    "from engine.graph_io import import_graph\n",
    "\n",
    "graph_base_path = data_path / \"graphs\" / \"foodcom\"\n",
    "B = import_graph(graph_base_path / \"bipartite_recipe_ingredient.graphml\")\n",
    "assert nx.is_bipartite(B)\n"
   ]
  },
  {
   "cell_type": "code",
   "execution_count": 5,
   "metadata": {},
   "outputs": [
    {
     "name": "stdout",
     "output_type": "stream",
     "text": [
      "521\n",
      "['salt_ingredient', 'pepper_ingredient', 'onion_ingredient', 'oil_ingredient', 'butter_ingredient', 'sugar_ingredient', 'egg_ingredient', 'flour_ingredient', 'water_ingredient', 'clove_ingredient']\n"
     ]
    }
   ],
   "source": [
    "from engine.graph_io import export_graph\n",
    "from engine.graph_construction import build_ingredient_graph\n",
    "\n",
    "greatest_ingredients = get_ingredient_cutoff(B, ingredient_cutoff_percentage=0.90)\n",
    "print(len(greatest_ingredients))\n",
    "print(greatest_ingredients[:10])\n",
    "\n",
    "# Works 1 minute\n",
    "G_jaccard, G_pmi = build_ingredient_graph(foodcom_recipes_json, ingredients=[x.removesuffix(\"_ingredient\") for x in greatest_ingredients])\n",
    "export_graph(G_jaccard, graph_base_path / \"ingredient_node_reduced_jaccard_weighted.graphml\")\n",
    "export_graph(G_pmi, graph_base_path / \"ingredient_node_reduced_pmi_weighted.graphml\")\n"
   ]
  },
  {
   "cell_type": "code",
   "execution_count": 6,
   "metadata": {},
   "outputs": [
    {
     "name": "stdout",
     "output_type": "stream",
     "text": [
      "['egg', 'eggnog', 'egg roll', 'egg wash', 'egg yolk', 'egglands', 'eggplant', 'eggshell', 'taleggio', 'egg bread', 'egg matzo', 'egg white', \"eggland's\", 'jumbo egg', 'omega egg', 'quail egg', 'egg beater', 'egg noodle', 'egg tomato', 'egg-whites', 'soy eggnog', 'dairy eggnog', 'veggie shred', 'baby eggplant', 'chocolate egg', 'egg roll wrap', 'veggie burger', 'egg roll crepe', 'egg substitute', 'egg tortellini', 'free-range egg', 'globe eggplant', 'extra-large egg', 'veggie crumbles', 'egg roll wrapper', 'egg rotini pasta', 'egg sandwich bun', 'egg-roll wrapper', 'eggnog ice cream', 'wheat egg noodle', 'medium egg noodle', 'liquid egg product', 'spinach egg noodle', 'egg replacer powder', 'chocolate easter egg', 'liquid egg substitute', 'miniature chocolate egg', \"yve's veggie ground round\", 'parmigiano-reggiano cheese']\n",
      "['zucchini pineapple wheat bread', 'zucchini pineapple loaf cake', 'zucchini pineapple cake', 'zucchini pineapple bread', 'zucchini kahlua bread', 'zucchini bread with pineapple', 'yummy pineapple cake', 'yummy fruit  n  pasta salad', 'yum yum cake', 'your favourite carrot cake', 'why i joined zaar carrot cake', 'whole wheat carrot cake with cream cheese frosting', 'white fruitcake', 'whiskey cookies', 'whipped cream fruit salad', 'wheat germ picnic cake', 'wheat bran muffins', 'upside down pineapple cake', 'unbelievable carrot carrot', 'ultimate decadent muffins', 'ultimate carrot cake', 'tzimmes kugel', 'tutti frutti muffins', 'tutti fruitti cake  aka vera s mennonite cake', 'tropical white chocolate pound cake', 'tropical vacation cake in a jar', 'tropical pound cake', 'tropical pineapple carrot cake   to die for', 'tropical nut bread', 'tropical kumquat cake', 'tropical hummingbird cake', 'tropical honeymoon cake', 'tropical dried fruit choc chip cookies with a crunch', 'tropical dream cake', 'tropical carrot cake', 'tropical carrot cake with coconut cream frosting', 'trisha yearwood s 6 layer carrot cake', 'traditional carrot cake', 'tracy s tropical carrot cake', 'top me twice cake', 'tom lester s fruitcake', 'three layer orange jello salad', 'the worlds best carrot cake  gluten free', 'the ultimate vt carrot cake', 'the only carrot cake recipe you will ever need', 'the best carrot cake', 'the best carrot cake you ll ever have', 'tea cake  island style', 'tahiti blondies', 'taffy apple salad', 'sweet t s caramel apple salad', 'sweet golden pineapple muffins', 'swedish nut cake', 'super moist muffins', 'super fast queensland pineapple cake  no cake mix', 'sunshine breakfast crepes', 'sunflower oatmeal scones', 'sunday morning muffins', 'sugarless carrot cake  splenda granular', 'sugardoll s breakfast bread', 'sugar  free pineapple nut bread', 'stardust bran muffins', 'st  david s heavenly carrot cake', 'spicy pineapple zucchini cake', 'spicy pineapple fritters', 'spicy carrot cake bars', 'spiced pineapple zucchini bread', 'special jello salad', 'southern pineapple bar cookies', 'soft and chewy pineapple cookies', 'smoky cheese chile muffins', 'singapore style pineapple tarts', 'silver palate carrot cake', 'sheraton maui macadamia nut pineapple banana bread', 'scottish meatballs', 'sawdust salad', 'rutabaga cake', 'rosemary pineapple cake', 'rosemaria salad', 'rose kennedy s cake', 'rosamarina salad', 'rise   shine muffins', 'ricotta pineapple muffins', 'ricky skaggs best ever  cake', 'rhubarb pineapple custard pie', 'really moist pineapple loaf', 'raisin carrot muffins', 'quick pineapple cherry bread', 'quick and easy tropical coffee cake', 'pumpkin carrot cake', 'pumpkin and pineapple cookies', 'puerto rican pineapple rum cake', 'pud cake  by emeril and with a long story from me', 'preachers cake', 'pork n beans cake  spice cake    easy', 'pork chop with sweet potato and pineapple', 'poohrona s pineapple upside down cake', 'polynesian cake', 'polynesian cake and cream frosting', 'plantation muffins']\n",
      "['sugar', 'salt', 'wheat flour', 'zucchini', 'powder', 'oil', 'ground nutmeg', 'pecan', 'pineapple', 'flour', 'vanilla', 'applesauce', 'cinnamon', 'soda', 'egg']\n",
      "['bread', 'gf bread', '3 c bread', 'abc bread', 'bee bread', 'cornbread', 'egg bread', 'fig bread', 'flatbread', 'fry bread', 'nut bread', 'oat bread', 'poi bread', 'raw bread', 'rye bread', 'v 8 bread', 'war bread', '7 up bread', 'bean bread', 'beer bread', 'beet bread', 'bread poha', 'bread soup', 'brie bread', 'chew bread', 'corn bread', 'dill bread', 'flat bread', 'flax bread', 'gogo bread', 'good bread', 'herb bread', 'hobo bread', 'hops bread', 'magi bread', 'milk bread', 'naan bread', 'olga bread', 'pear bread', 'pita bread', 'pizzabread', 'plum bread', 'seed bread', 'shortbread', 'soda bread', '1 2 3 bread', 'acorn bread', 'aioli bread', 'amish bread', 'apple bread', 'basic bread', 'beach bread', 'berry bread', 'black bread', 'bread bowls', 'bread knots', 'bread rolls', 'bread salad', 'bread sauce', 'breadcrumbs', 'breadsticks', 'brown bread', 'chili bread', 'choco bread', 'cinna bread', 'cocoa bread', 'cuban bread', 'earth bread', 'fairy bread', 'fp bread  2', 'fried bread', 'gingerbread', 'greek bread', 'grits bread', 'honey bread', 'hunza bread', 'irish bread', 'lemon bread', 'mandelbread', 'mango bread', 'maori bread', 'olive bread', 'onion bread', 'paleo bread', 'paris bread', 'patio bread', 'peach bread', 'pecan bread', 'pesto bread', 'pizza bread', 'ranch bread', 'salad bread', 'seedy bread', 'shortbreads', 'spelt bread', 'spoon bread', 'squaw bread', 'sugar bread', 'sweet bread', 'swope bread']\n"
     ]
    }
   ],
   "source": [
    "from engine.recipe_ingredient_bipartite_queries import return_available_recipes_given_ingredients, return_ingredient_given_query, return_ingredients_given_recipe, return_recipe_given_query\n",
    "\n",
    "\n",
    "ingredients = return_ingredient_given_query(\"egg\", B)\n",
    "print(ingredients)\n",
    "recipes = return_available_recipes_given_ingredients([\"egg\", \"flour\", \"pineapple\"], B, True)\n",
    "print(recipes)\n",
    "recipe_ingredients = return_ingredients_given_recipe(\"zucchini pineapple wheat bread\", B)\n",
    "print(recipe_ingredients)\n",
    "recipes = return_recipe_given_query(\"bread\", B)\n",
    "print(recipes)"
   ]
  },
  {
   "attachments": {},
   "cell_type": "markdown",
   "metadata": {},
   "source": [
    "# Recipe NLG"
   ]
  },
  {
   "cell_type": "code",
   "execution_count": 3,
   "metadata": {},
   "outputs": [
    {
     "data": {
      "text/html": [
       "<div>\n",
       "<style scoped>\n",
       "    .dataframe tbody tr th:only-of-type {\n",
       "        vertical-align: middle;\n",
       "    }\n",
       "\n",
       "    .dataframe tbody tr th {\n",
       "        vertical-align: top;\n",
       "    }\n",
       "\n",
       "    .dataframe thead th {\n",
       "        text-align: right;\n",
       "    }\n",
       "</style>\n",
       "<table border=\"1\" class=\"dataframe\">\n",
       "  <thead>\n",
       "    <tr style=\"text-align: right;\">\n",
       "      <th></th>\n",
       "      <th>Unnamed: 0</th>\n",
       "      <th>title</th>\n",
       "      <th>ingredients</th>\n",
       "      <th>directions</th>\n",
       "      <th>link</th>\n",
       "      <th>source</th>\n",
       "      <th>NER</th>\n",
       "    </tr>\n",
       "  </thead>\n",
       "  <tbody>\n",
       "    <tr>\n",
       "      <th>0</th>\n",
       "      <td>0</td>\n",
       "      <td>No-Bake Nut Cookies</td>\n",
       "      <td>[\"1 c. firmly packed brown sugar\", \"1/2 c. eva...</td>\n",
       "      <td>[\"In a heavy 2-quart saucepan, mix brown sugar...</td>\n",
       "      <td>www.cookbooks.com/Recipe-Details.aspx?id=44874</td>\n",
       "      <td>Gathered</td>\n",
       "      <td>[\"brown sugar\", \"milk\", \"vanilla\", \"nuts\", \"bu...</td>\n",
       "    </tr>\n",
       "    <tr>\n",
       "      <th>1</th>\n",
       "      <td>1</td>\n",
       "      <td>Jewell Ball'S Chicken</td>\n",
       "      <td>[\"1 small jar chipped beef, cut up\", \"4 boned ...</td>\n",
       "      <td>[\"Place chipped beef on bottom of baking dish....</td>\n",
       "      <td>www.cookbooks.com/Recipe-Details.aspx?id=699419</td>\n",
       "      <td>Gathered</td>\n",
       "      <td>[\"beef\", \"chicken breasts\", \"cream of mushroom...</td>\n",
       "    </tr>\n",
       "    <tr>\n",
       "      <th>2</th>\n",
       "      <td>2</td>\n",
       "      <td>Creamy Corn</td>\n",
       "      <td>[\"2 (16 oz.) pkg. frozen corn\", \"1 (8 oz.) pkg...</td>\n",
       "      <td>[\"In a slow cooker, combine all ingredients. C...</td>\n",
       "      <td>www.cookbooks.com/Recipe-Details.aspx?id=10570</td>\n",
       "      <td>Gathered</td>\n",
       "      <td>[\"frozen corn\", \"cream cheese\", \"butter\", \"gar...</td>\n",
       "    </tr>\n",
       "    <tr>\n",
       "      <th>3</th>\n",
       "      <td>3</td>\n",
       "      <td>Chicken Funny</td>\n",
       "      <td>[\"1 large whole chicken\", \"2 (10 1/2 oz.) cans...</td>\n",
       "      <td>[\"Boil and debone chicken.\", \"Put bite size pi...</td>\n",
       "      <td>www.cookbooks.com/Recipe-Details.aspx?id=897570</td>\n",
       "      <td>Gathered</td>\n",
       "      <td>[\"chicken\", \"chicken gravy\", \"cream of mushroo...</td>\n",
       "    </tr>\n",
       "    <tr>\n",
       "      <th>4</th>\n",
       "      <td>4</td>\n",
       "      <td>Reeses Cups(Candy)</td>\n",
       "      <td>[\"1 c. peanut butter\", \"3/4 c. graham cracker ...</td>\n",
       "      <td>[\"Combine first four ingredients and press in ...</td>\n",
       "      <td>www.cookbooks.com/Recipe-Details.aspx?id=659239</td>\n",
       "      <td>Gathered</td>\n",
       "      <td>[\"peanut butter\", \"graham cracker crumbs\", \"bu...</td>\n",
       "    </tr>\n",
       "  </tbody>\n",
       "</table>\n",
       "</div>"
      ],
      "text/plain": [
       "   Unnamed: 0                  title   \n",
       "0           0    No-Bake Nut Cookies  \\\n",
       "1           1  Jewell Ball'S Chicken   \n",
       "2           2            Creamy Corn   \n",
       "3           3          Chicken Funny   \n",
       "4           4   Reeses Cups(Candy)     \n",
       "\n",
       "                                         ingredients   \n",
       "0  [\"1 c. firmly packed brown sugar\", \"1/2 c. eva...  \\\n",
       "1  [\"1 small jar chipped beef, cut up\", \"4 boned ...   \n",
       "2  [\"2 (16 oz.) pkg. frozen corn\", \"1 (8 oz.) pkg...   \n",
       "3  [\"1 large whole chicken\", \"2 (10 1/2 oz.) cans...   \n",
       "4  [\"1 c. peanut butter\", \"3/4 c. graham cracker ...   \n",
       "\n",
       "                                          directions   \n",
       "0  [\"In a heavy 2-quart saucepan, mix brown sugar...  \\\n",
       "1  [\"Place chipped beef on bottom of baking dish....   \n",
       "2  [\"In a slow cooker, combine all ingredients. C...   \n",
       "3  [\"Boil and debone chicken.\", \"Put bite size pi...   \n",
       "4  [\"Combine first four ingredients and press in ...   \n",
       "\n",
       "                                              link    source   \n",
       "0   www.cookbooks.com/Recipe-Details.aspx?id=44874  Gathered  \\\n",
       "1  www.cookbooks.com/Recipe-Details.aspx?id=699419  Gathered   \n",
       "2   www.cookbooks.com/Recipe-Details.aspx?id=10570  Gathered   \n",
       "3  www.cookbooks.com/Recipe-Details.aspx?id=897570  Gathered   \n",
       "4  www.cookbooks.com/Recipe-Details.aspx?id=659239  Gathered   \n",
       "\n",
       "                                                 NER  \n",
       "0  [\"brown sugar\", \"milk\", \"vanilla\", \"nuts\", \"bu...  \n",
       "1  [\"beef\", \"chicken breasts\", \"cream of mushroom...  \n",
       "2  [\"frozen corn\", \"cream cheese\", \"butter\", \"gar...  \n",
       "3  [\"chicken\", \"chicken gravy\", \"cream of mushroo...  \n",
       "4  [\"peanut butter\", \"graham cracker crumbs\", \"bu...  "
      ]
     },
     "execution_count": 3,
     "metadata": {},
     "output_type": "execute_result"
    }
   ],
   "source": [
    "raw_recipenlg_csv = pd.read_csv(raw_data_path / \"recipenlg\" / \"dataset\" / \"full_dataset.csv\")\n",
    "raw_recipenlg_csv.head()"
   ]
  },
  {
   "cell_type": "code",
   "execution_count": 4,
   "metadata": {},
   "outputs": [
    {
     "name": "stdout",
     "output_type": "stream",
     "text": [
      "2231142\n"
     ]
    }
   ],
   "source": [
    "print(len(raw_recipenlg_csv))"
   ]
  },
  {
   "cell_type": "code",
   "execution_count": 4,
   "metadata": {},
   "outputs": [],
   "source": [
    "def save_recipenlg_json(recipe_nlg: pd.DataFrame, path: Path):\n",
    "    info_json = {}\n",
    "\n",
    "    for i, row in recipe_nlg[[\"title\", \"NER\", \"directions\", \"ingredients\"]].iterrows():\n",
    "        recipe = row[\"title\"]\n",
    "        ingredients = eval(row[\"NER\"])\n",
    "        instructions = eval(row[\"directions\"])\n",
    "        full_ingredients = eval(row[\"ingredients\"])\n",
    "        info_json[recipe] = {\n",
    "            \"nombre\": recipe,\n",
    "            \"ingredientes\": [{\"nombre\": ingredient.lower(), } for ingredient in ingredients],\n",
    "            \"instrucciones\": [ {\"orden\": i, \"instruccion\": instruction.lower(), } for i, instruction in enumerate(instructions)],\n",
    "            \"ingredientes_completos\": full_ingredients\n",
    "        }\n",
    "\n",
    "    json.dump(info_json, (path).open(\"+w\"))\n",
    "\n",
    "recipenlg_json_path = data_path / \"graphs\" / \"recipenlg\" / \"recipenlg.recipe.json\"\n",
    "save_recipenlg_json(raw_recipenlg_csv, recipenlg_json_path)"
   ]
  },
  {
   "cell_type": "code",
   "execution_count": 3,
   "metadata": {},
   "outputs": [],
   "source": [
    "recipenlg_json_path = data_path / \"graphs\" / \"recipenlg\" / \"recipenlg.recipe.json\"\n",
    "recipenlg_recipes_json = json.load(recipenlg_json_path.open())"
   ]
  },
  {
   "cell_type": "code",
   "execution_count": 6,
   "metadata": {},
   "outputs": [],
   "source": [
    "from engine.graph_io import export_graph\n",
    "from engine.graph_construction import build_ingredient_graph, build_ingredient_recipe_graph, build_recipe_graph\n",
    "\n",
    "graph_base_path = data_path / \"graphs\" / \"recipenlg\"\n",
    "\n",
    "# Works 127 seconds\n",
    "G8 = build_ingredient_recipe_graph(recipenlg_recipes_json)\n",
    "export_graph(G8, graph_base_path / \"bipartite_recipe_ingredient.graphml\")\n",
    "\n",
    "# Works ?? minutes\n",
    "# G7 = build_ingredient_graph(foodcom_recipes_json)\n",
    "# nx.write_graphml(G7, graph_base_path / \"ingredient_node_weighted.graphml\")\n",
    "\n",
    "# TOO EXPENSIVE\n",
    "# G6 = build_recipe_graph(foodcom_recipes_json)\n",
    "# nx.write_graphml(G6, graph_base_path / f\"recipe_node_weighted.graphml\")\n"
   ]
  },
  {
   "cell_type": "code",
   "execution_count": 4,
   "metadata": {},
   "outputs": [],
   "source": [
    "from engine.graph_io import import_graph\n",
    "\n",
    "graph_base_path = data_path / \"graphs\" / \"recipenlg\"\n",
    "B = import_graph(graph_base_path / \"bipartite_recipe_ingredient.graphml\")\n",
    "assert nx.is_bipartite(B)"
   ]
  },
  {
   "cell_type": "code",
   "execution_count": 5,
   "metadata": {},
   "outputs": [
    {
     "name": "stdout",
     "output_type": "stream",
     "text": [
      "757\n",
      "['salt_ingredient', 'sugar_ingredient', 'butter_ingredient', 'garlic_ingredient', 'flour_ingredient', 'onion_ingredient', 'eggs_ingredient', 'water_ingredient', 'milk_ingredient', 'olive oil_ingredient']\n"
     ]
    }
   ],
   "source": [
    "from engine.graph_io import export_graph\n",
    "from engine.graph_construction import build_ingredient_graph\n",
    "\n",
    "greatest_ingredients = get_ingredient_cutoff(B, ingredient_cutoff_percentage=0.85)\n",
    "print(len(greatest_ingredients))\n",
    "print(greatest_ingredients[:10])\n",
    "\n",
    "# Works 10 minutes\n",
    "G_jaccard, G_pmi = build_ingredient_graph(recipenlg_recipes_json, ingredients=[x.removesuffix(\"_ingredient\") for x in greatest_ingredients])\n",
    "export_graph(G_jaccard, graph_base_path / \"ingredient_node_reduced_jaccard_weighted.graphml\")\n",
    "export_graph(G_pmi, graph_base_path / \"ingredient_node_reduced_pmi_weighted.graphml\")"
   ]
  },
  {
   "cell_type": "code",
   "execution_count": null,
   "metadata": {},
   "outputs": [],
   "source": []
  }
 ],
 "metadata": {
  "kernelspec": {
   "display_name": "Python 3",
   "language": "python",
   "name": "python3"
  },
  "language_info": {
   "codemirror_mode": {
    "name": "ipython",
    "version": 3
   },
   "file_extension": ".py",
   "mimetype": "text/x-python",
   "name": "python",
   "nbconvert_exporter": "python",
   "pygments_lexer": "ipython3",
   "version": "3.11.2"
  },
  "orig_nbformat": 4
 },
 "nbformat": 4,
 "nbformat_minor": 2
}
