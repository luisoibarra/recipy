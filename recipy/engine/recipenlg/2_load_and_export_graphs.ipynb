{
 "cells": [
  {
   "cell_type": "code",
   "execution_count": 2,
   "metadata": {},
   "outputs": [
    {
     "name": "stdout",
     "output_type": "stream",
     "text": [
      "Total Recipes 230186\n",
      "Sum of edge list 2168650\n"
     ]
    }
   ],
   "source": [
    "import json\n",
    "from pathlib import Path\n",
    "import networkx as nx\n",
    "from itertools import combinations\n",
    "\n",
    "json_path = Path(\"..\", \"..\", \"raw_data\", \"foodcom\", \"food.com.recipe_normalized.json\")\n",
    "\n",
    "recipes_json = json.load(json_path.open())\n",
    "\n",
    "print(\"Total Recipes\", len(recipes_json))\n",
    "print(\"Sum of edge list\", sum([len(recipes_json[x][\"ingredientes\"]) for x in recipes_json]))\n",
    "\n",
    "graph_path = Path(\"..\", \"..\", \"raw_data\", \"graphs\", \"foodcom\")"
   ]
  },
  {
   "cell_type": "code",
   "execution_count": 3,
   "metadata": {},
   "outputs": [],
   "source": [
    "def build_recipe_graph(json: dict) -> nx.Graph:\n",
    "    G_json = nx.Graph()\n",
    "    \n",
    "    ingredients = set()\n",
    "    for recipe in json:\n",
    "        ingredients.update(list(map(lambda x: x['nombre'], json[recipe][\"ingredientes\"])))\n",
    "    ingredients = list(ingredients)\n",
    "\n",
    "    ingredient_dict = { x: set() for x in ingredients }\n",
    "    for recipe in json:\n",
    "        for ingr in list(map(lambda x: x['nombre'], json[recipe][\"ingredientes\"])):\n",
    "            ingredient_dict[ingr].add(recipe)\n",
    "\n",
    "    edges = {}\n",
    "    for ingr in ingredients:\n",
    "        if len(ingredient_dict[ingr]) >= 1e4: continue    \n",
    "        for rec1, rec2 in combinations(ingredient_dict[ingr], 2):\n",
    "            if rec1 < rec2: rec1, rec2 = rec2, rec1\n",
    "            try: edges[(rec1, rec2)] += 1\n",
    "            except: edges[(rec1, rec2)] = 1\n",
    "    \n",
    "    for (i, j) in edges.keys():\n",
    "        G_json.add_edge(i, j)\n",
    "\n",
    "    return G_json\n",
    "\n",
    "def build_ingredient_graph(json: dict) -> nx.Graph:\n",
    "    G_json = nx.Graph()\n",
    "    \n",
    "    ingredients = set()\n",
    "    for recipe in json:\n",
    "        ingredients.update(list(map(lambda x: x['nombre'], json[recipe][\"ingredientes\"])))\n",
    "    ingredients = list(ingredients)\n",
    "\n",
    "    ingredient_dict = { x: set() for x in ingredients }\n",
    "    for recipe in json:\n",
    "        for ingr in list(map(lambda x: x['nombre'], json[recipe][\"ingredientes\"])):\n",
    "            ingredient_dict[ingr].add(recipe)\n",
    "\n",
    "    print(\"Start to build graph\", len(ingredients))\n",
    "    \n",
    "    for ingr1, ingr2 in combinations(ingredients, 2):\n",
    "        recipe1_ingredients_names = ingredient_dict[ingr1]\n",
    "        recipe2_ingredients_names = ingredient_dict[ingr2]\n",
    "\n",
    "        common_recipes =len(recipe1_ingredients_names.intersection(recipe2_ingredients_names))\n",
    "        all_recipes = len(recipe1_ingredients_names.union(recipe2_ingredients_names))\n",
    "\n",
    "        if common_recipes > 0:\n",
    "            jaccard = common_recipes / all_recipes\n",
    "            G_json.add_edge(ingr1, ingr2, weight=jaccard)\n",
    "            \n",
    "    return G_json\n",
    "\n",
    "def build_ingredient_recipe_graph(json: dict, bipartite=True) -> nx.Graph:\n",
    "    G_json = nx.Graph()\n",
    "\n",
    "    ingredients = set()\n",
    "    for recipe in json:\n",
    "        ingredients.update(list(map(lambda x: x['nombre'], json[recipe][\"ingredientes\"])))\n",
    "    ingredients = list(ingredients)\n",
    "\n",
    "    for node in ingredients:\n",
    "        G_json.add_node(node + (\" (ingredient)\" if bipartite else \"\"), type=\"ingredient\")\n",
    "\n",
    "    for node in json:\n",
    "        G_json.add_node(node + (\" (recipe)\" if bipartite else \"\"), type=\"recipe\")\n",
    "\n",
    "    for recipe in json:\n",
    "        for ingredient in json[recipe][\"ingredientes\"]:\n",
    "            G_json.add_edge(recipe + (\" (recipe)\" if bipartite else \"\"), ingredient[\"nombre\"] + (\" (ingredient)\" if bipartite else \"\"))\n",
    "\n",
    "    return G_json\n"
   ]
  },
  {
   "cell_type": "code",
   "execution_count": 5,
   "metadata": {},
   "outputs": [],
   "source": [
    "# Works 30 seconds\n",
    "G8 = build_ingredient_recipe_graph(recipes_json)\n",
    "nx.write_graphml(G8, graph_path / \"bipartite_recipe_ingredient.graphml\")"
   ]
  },
  {
   "cell_type": "code",
   "execution_count": null,
   "metadata": {},
   "outputs": [],
   "source": [
    "# Works 17-20 minutes\n",
    "G7 = build_ingredient_graph(recipes_json)\n",
    "nx.write_graphml(G7, graph_path / \"ingredient_node_weighted.graphml\")"
   ]
  },
  {
   "cell_type": "code",
   "execution_count": null,
   "metadata": {},
   "outputs": [],
   "source": [
    "# TOO EXPENSIVE, it consumes so much memory, most of the things that this graphs represents \n",
    "# are available in the bipartite graph too\n",
    "G6 = build_recipe_graph(recipes_json)\n",
    "nx.write_graphml(G6, graph_path / f\"recipe_node_weighted.graphml\")"
   ]
  }
 ],
 "metadata": {
  "kernelspec": {
   "display_name": "Python 3.10.2 ('complex_networks')",
   "language": "python",
   "name": "python3"
  },
  "language_info": {
   "codemirror_mode": {
    "name": "ipython",
    "version": 3
   },
   "file_extension": ".py",
   "mimetype": "text/x-python",
   "name": "python",
   "nbconvert_exporter": "python",
   "pygments_lexer": "ipython3",
   "version": "3.10.2"
  },
  "orig_nbformat": 4,
  "vscode": {
   "interpreter": {
    "hash": "727d9228c85bfa309cc7d7640f704bd8e8239c9234fe15c5e13b05df5956d70b"
   }
  }
 },
 "nbformat": 4,
 "nbformat_minor": 2
}
