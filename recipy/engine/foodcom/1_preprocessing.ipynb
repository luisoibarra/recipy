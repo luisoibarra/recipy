{
 "cells": [
  {
   "cell_type": "code",
   "execution_count": null,
   "metadata": {},
   "outputs": [],
   "source": [
    "import nltk\n",
    "from pathlib import Path\n",
    "base_path = Path(\"..\", \"..\", \"raw_data\", \"foodcom\")\n",
    "recipes_path = base_path / \"food.com.recipe.json\""
   ]
  },
  {
   "cell_type": "code",
   "execution_count": null,
   "metadata": {},
   "outputs": [],
   "source": [
    "import json\n",
    "recipes = json.loads(recipes_path.read_text())"
   ]
  },
  {
   "cell_type": "code",
   "execution_count": null,
   "metadata": {},
   "outputs": [],
   "source": [
    "from typing import List, Tuple\n",
    "\n",
    "simple_grammar = \\\n",
    "\"\"\"\n",
    "I: {<ADJ>*<NOUN>+}\n",
    "\"\"\"\n",
    "\n",
    "parser = nltk.RegexpParser(simple_grammar)\n",
    "lemmatizer = nltk.WordNetLemmatizer()\n",
    "\n",
    "def normalize(ingredient: str) -> List[Tuple[str, str]]:\n",
    "    \"\"\"\n",
    "    Given an ingredient description extract all ingredients with its modifier.\n",
    "    This implementation works by extracting all groups of adjacent adjectives and nouns\n",
    "    as a single ingredient and then converting to singular all its terms. \n",
    "\n",
    "    ingredient: Must be a short description of ingredients.\n",
    "\n",
    "    ## Examples:\n",
    "    - normalize(\"the prepared pizza crust\") => [('pizza crust', 'prepared')]\n",
    "    - normalize(\"salt and pepper\") => [('salt', ''), ('pepper', '')]\n",
    "    - normalize(\"finely chopped onion\") => [('onion', '')]\n",
    "    - normalize(\"diced tomatoes\") => [('tomato', '')]\n",
    "    - normalize(\"tomato paste\") => [('tomato paste', '')]\n",
    "    - normalize(\"apple cider vinegar\") => [('apple cider vinegar', '')]\n",
    "    - normalize(\"fresh cilantro leaves\") => [('cilantro leaf', 'fresh')]\n",
    "    - normalize(\"black pepper\") => [('pepper', 'black')]\n",
    "    \"\"\"\n",
    "\n",
    "    def filter_tree(tree, tag):\n",
    "        try:\n",
    "            if tree.label() == tag:\n",
    "                return [[x for x in tree]]\n",
    "        except:\n",
    "            return []\n",
    "        current = []\n",
    "        for node in tree:\n",
    "            filtered_nodes = filter_tree(node, tag)\n",
    "            current.extend(filtered_nodes)\n",
    "        return current\n",
    "\n",
    "    def reassemble_ingredient(parsed: List[Tuple[str, str]]) -> str:\n",
    "        return \" \".join([lemmatizer.lemmatize(x, pos=\"n\") for x, y in parsed if y == \"NOUN\"])\n",
    "\n",
    "    def get_modifiers(parsed: List[Tuple[str, str]]) -> str:\n",
    "        return \" \".join([lemmatizer.lemmatize(x, pos=\"a\") for x, y in parsed if y == \"ADJ\"])\n",
    "\n",
    "    pos = nltk.pos_tag([x.lower() for x in ingredient.split()], tagset=\"universal\")\n",
    "    result = parser.parse(pos)\n",
    "    result = filter_tree(result, \"I\")\n",
    "    if result:\n",
    "        return list(zip(map(reassemble_ingredient, result), map(get_modifiers, result)))\n",
    "    else:\n",
    "        return [(ingredient, \"\")]\n",
    "    \n",
    "print(normalize(\"the prepared pizza crust\"))\n",
    "print(normalize(\"salt and pepper\"))\n",
    "print(normalize(\"finely chopped onion\"))\n",
    "print(normalize(\"diced tomatoes\"))\n",
    "print(normalize(\"juicy ripe tomato\"))\n",
    "print(normalize(\"tomato paste\"))\n",
    "print(normalize(\"apple cider vinegar\"))\n",
    "print(normalize(\"fresh cilantro leaves\"))\n",
    "print(normalize(\"black pepper\"))\n"
   ]
  },
  {
   "cell_type": "code",
   "execution_count": null,
   "metadata": {},
   "outputs": [],
   "source": [
    "new_recipes = { }\n",
    "for recipe, info in recipes.items():\n",
    "    new_recipes[recipe] = {\n",
    "        \"nombre\": recipe,\n",
    "        \"ingredientes\": [ \n",
    "            {\n",
    "                \"nombre\": new_ingredient, \n",
    "                \"modificador\": modifier\n",
    "            } for ingredient in info[\"ingredientes\"]\n",
    "                for new_ingredient, modifier in normalize(ingredient[\"nombre\"]) \n",
    "        ]\n",
    "    }\n",
    "\n",
    "recipes_norm_path = base_path / \"food.com.recipe_normalized.json\"\n",
    "json.dump(new_recipes, recipes_norm_path.open(mode=\"+w\"))"
   ]
  },
  {
   "attachments": {},
   "cell_type": "markdown",
   "metadata": {},
   "source": [
    "# TODO\n",
    "\n",
    "- [ ] Ordenar por frecuencia y seleccionar hasta un punto las recetas.\n",
    "- [ ] Hacer TF-IDF con las recetas sin normalizar y seleccionar las mejores.\n",
    "- [ ] Visualizar los resultados y seleccionar el mejor conjunto de ingredientes.\n"
   ]
  }
 ],
 "metadata": {
  "kernelspec": {
   "display_name": "Python 3",
   "language": "python",
   "name": "python3"
  },
  "language_info": {
   "codemirror_mode": {
    "name": "ipython",
    "version": 3
   },
   "file_extension": ".py",
   "mimetype": "text/x-python",
   "name": "python",
   "nbconvert_exporter": "python",
   "pygments_lexer": "ipython3",
   "version": "3.11.2"
  },
  "orig_nbformat": 4
 },
 "nbformat": 4,
 "nbformat_minor": 2
}
