{
 "cells": [
  {
   "cell_type": "code",
   "execution_count": null,
   "metadata": {},
   "outputs": [],
   "source": [
    "import networkx as nx\n",
    "from pathlib import Path\n",
    "\n",
    "base_path = Path(\"..\", \"..\", \"data\", \"graphs\", \"foodcom\")\n",
    "\n",
    "def load_nx_graph(path: Path) -> nx.Graph:\n",
    "    return nx.read_graphml(path)\n"
   ]
  },
  {
   "cell_type": "code",
   "execution_count": null,
   "metadata": {},
   "outputs": [],
   "source": [
    "B = load_nx_graph(base_path / \"bipartite_recipe_ingredient.graphml\")\n",
    "nx.is_bipartite(B)"
   ]
  },
  {
   "cell_type": "code",
   "execution_count": null,
   "metadata": {},
   "outputs": [],
   "source": [
    "from typing import List\n",
    "from nltk.metrics.distance import edit_distance\n",
    "\n",
    "def return_ingredient_given_query(ingredient_query: str, graph: nx.Graph, max_amount: int = 100) -> List[str]:\n",
    "    \"\"\"\n",
    "    Returns a list with the ingredients that matches the query in the graph\n",
    "    \"\"\" \n",
    "    ingredient_nodes: List[str] = [x for x in graph.nodes if graph.nodes[x][\"type\"] == \"ingredient\"]\n",
    "    filtered_list = []\n",
    "    \n",
    "    # Filter\n",
    "    for ingredient in ingredient_nodes:\n",
    "        if ingredient_query in ingredient: # Contain filter\n",
    "            filtered_list.append(ingredient)\n",
    "    \n",
    "    ranked_list = []\n",
    "\n",
    "    # Ranking by Levenshtein distance \n",
    "    for ingredient in filtered_list:\n",
    "        ranked_list.append((edit_distance(ingredient, ingredient_query), ingredient))\n",
    "    \n",
    "    # return [x for x in sorted(ranked_list)][:max_amount]\n",
    "    return [x[1].removesuffix(\"_ingredient\") for x in sorted(ranked_list)][:max_amount]\n",
    "\n",
    "def return_recipe_given_query(recipe_query: str, graph: nx.Graph, max_amount: int = 100) -> List[str]:\n",
    "    recipe_nodes: List[str] = [x for x in graph.nodes if graph.nodes[x][\"type\"] == \"recipe\"]\n",
    "    filtered_list = []\n",
    "    \n",
    "    # Filter\n",
    "    for recipe in recipe_nodes:\n",
    "        if recipe_query in recipe: # Contain filter\n",
    "            filtered_list.append(recipe)\n",
    "    \n",
    "    ranked_list = []\n",
    "\n",
    "    # Ranking by Levenshtein distance \n",
    "    for recipe in filtered_list:\n",
    "        ranked_list.append((edit_distance(recipe, recipe_query), recipe))\n",
    "    \n",
    "    # return [x for x in sorted(ranked_list)][:max_amount]\n",
    "    return [x[1].removesuffix(\"_recipe\") for x in sorted(ranked_list)][:max_amount]\n",
    "\n",
    "def return_available_recipes_given_ingredients(ingredients_query: List[str], graph: nx.Graph, exact_ingredient_match: bool = False, max_amount: int = 100) -> List[str]:\n",
    "    \"\"\"\n",
    "    Returns the recipes that can be made with any of the given ingredients.\n",
    "    \"\"\"\n",
    "    ingredients_query = [x + \"_ingredient\" for x in ingredients_query]\n",
    "\n",
    "    ingredient_nodes: List[str] = [x for x in graph.nodes if graph.nodes[x][\"type\"] == \"ingredient\"]\n",
    "    ingredient_nodes = set(ingredient_nodes).intersection(ingredients_query)\n",
    "\n",
    "    recipe_nodes = set(recipe for ingredient in ingredient_nodes for recipe in graph[ingredient])\n",
    "\n",
    "    subgraph: nx.Graph = graph.subgraph(recipe_nodes.union(ingredient_nodes))\n",
    "\n",
    "    # Ranking by degree\n",
    "    recipe_nodes = [(len(list(subgraph.neighbors(recipe))), recipe) for recipe in subgraph.nodes if subgraph.nodes[recipe][\"type\"] == \"recipe\"]\n",
    "    \n",
    "    return [x[1].removesuffix(\"_recipe\") for x in sorted(recipe_nodes, reverse=True) if not exact_ingredient_match or x[0] == len(ingredient_nodes)][:max_amount]\n",
    "    # return [x for x in sorted(recipe_nodes, reverse=True)][:max_amount]\n",
    "\n",
    "def return_ingredients_given_recipe(recipe_query: str, graph: nx.Graph) -> List[str]:\n",
    "    return [x.removesuffix(\"_ingredient\") for x in graph.neighbors(recipe_query + \"_recipe\")]\n"
   ]
  },
  {
   "cell_type": "code",
   "execution_count": null,
   "metadata": {},
   "outputs": [],
   "source": [
    "ingredients = return_ingredient_given_query(\"egg\", B)\n",
    "print(ingredients)\n",
    "recipes = return_available_recipes_given_ingredients([\"egg\", \"flour\", \"pineapple\"], B, True)\n",
    "print(recipes)\n",
    "recipe_ingredients = return_ingredients_given_recipe(\"zucchini pineapple wheat bread\", B)\n",
    "print(recipe_ingredients)\n",
    "recipes = return_recipe_given_query(\"bread\", B)\n",
    "print(recipes)\n"
   ]
  },
  {
   "cell_type": "code",
   "execution_count": null,
   "metadata": {},
   "outputs": [],
   "source": []
  }
 ],
 "metadata": {
  "kernelspec": {
   "display_name": "Python 3",
   "language": "python",
   "name": "python3"
  },
  "language_info": {
   "codemirror_mode": {
    "name": "ipython",
    "version": 3
   },
   "file_extension": ".py",
   "mimetype": "text/x-python",
   "name": "python",
   "nbconvert_exporter": "python",
   "pygments_lexer": "ipython3",
   "version": "3.11.2"
  },
  "orig_nbformat": 4
 },
 "nbformat": 4,
 "nbformat_minor": 2
}
